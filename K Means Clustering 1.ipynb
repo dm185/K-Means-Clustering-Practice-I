{
 "cells": [
  {
   "cell_type": "markdown",
   "metadata": {},
   "source": [
    "#  Diving Into-K Means Clustering\n",
    " "
   ]
  },
  {
   "cell_type": "markdown",
   "metadata": {},
   "source": [
    "This project will be broken down into four parts. The main goal of this project is dive into the unsupervised machine learning algorithm of K-Means clustering. This project will also be a means to review the following components:\n",
    "* Creating a dictionary\n",
    "* Using the newly created dictionary to make a Pandas Dataframe\n",
    "* Adding columns to a dataframe\n",
    "* Creating simple functions\n",
    "* Scaling data\n",
    "* Creating scatter plots\n",
    "* Creating violin plots\n",
    "* Creating boxplots\n",
    "\n",
    "\n",
    "This project will involve some basic exploratory data analysis and data visualization.  "
   ]
  },
  {
   "cell_type": "markdown",
   "metadata": {},
   "source": [
    "## Part I - K Means Clustering Warm-up"
   ]
  },
  {
   "cell_type": "code",
   "execution_count": 1,
   "metadata": {},
   "outputs": [],
   "source": [
    "# Importing the necessary Python libraries \n",
    "import pandas as pd\n",
    "import numpy as np\n",
    "from matplotlib import pyplot as plt\n",
    "from sklearn.cluster import KMeans\n",
    "from sklearn.preprocessing import MinMaxScaler\n",
    "import seaborn as sns\n",
    "%matplotlib inline\n"
   ]
  },
  {
   "cell_type": "code",
   "execution_count": 2,
   "metadata": {},
   "outputs": [],
   "source": [
    "# Creating a dictionary of lists (arrays)\n",
    "data = {'Name': ['Dave', 'Mike', 'Sarah', 'Cody', 'Beth', 'Sally', 'Will', 'Donald', 'Donnelly', 'Shelby', 'Vanessa', 'Dan', \\\n",
    "                'Seth', 'Roan', 'Kristen', 'Haley', 'Keith', 'Doug', 'Roger', 'Jody', 'Deanna', 'Tory', 'Jessica', 'Gary', \\\n",
    "                'Anna', 'Dustin', 'Rachel', 'Kim', 'Joanna', 'Jill'], 'Age': [23, 39, 27, 31, 22, 41, 34, 55, 43, 22, 25, 37,\\\n",
    "                                                                             44, 30, 29, 38, 24, 49, 39, 26, 32, 30, 28, 40, \\\n",
    "                                                                             50, 38, 41, 29, 31, 27], 'Clients': \\\n",
    "       [2, 5, 18, 7, 5, 8, 22, 5, 8, 12, 15, 1, 0, 3, 6, 8, 15, 20, 22, 8, 10, 3, 11, 19, 20, 8, 7, 17, 23, 1], 'Personality':\\\n",
    "       ['E', 'E', 'I', 'E', 'E', 'I', 'E', 'E', 'I', 'E', 'I', 'I', 'I', 'E', 'E', 'I', 'E', 'E', 'E', 'I', 'E', 'I', 'I',\\\n",
    "       'I', 'I', 'E', 'E', 'E', 'I', 'E']}"
   ]
  },
  {
   "cell_type": "code",
   "execution_count": 3,
   "metadata": {},
   "outputs": [],
   "source": [
    "# Creating a dataframe from the dictionary created above\n",
    "df = pd.DataFrame(data)"
   ]
  },
  {
   "cell_type": "code",
   "execution_count": 4,
   "metadata": {},
   "outputs": [
    {
     "data": {
      "text/html": [
       "<div>\n",
       "<style scoped>\n",
       "    .dataframe tbody tr th:only-of-type {\n",
       "        vertical-align: middle;\n",
       "    }\n",
       "\n",
       "    .dataframe tbody tr th {\n",
       "        vertical-align: top;\n",
       "    }\n",
       "\n",
       "    .dataframe thead th {\n",
       "        text-align: right;\n",
       "    }\n",
       "</style>\n",
       "<table border=\"1\" class=\"dataframe\">\n",
       "  <thead>\n",
       "    <tr style=\"text-align: right;\">\n",
       "      <th></th>\n",
       "      <th>Name</th>\n",
       "      <th>Age</th>\n",
       "      <th>Clients</th>\n",
       "      <th>Personality</th>\n",
       "    </tr>\n",
       "  </thead>\n",
       "  <tbody>\n",
       "    <tr>\n",
       "      <th>0</th>\n",
       "      <td>Dave</td>\n",
       "      <td>23</td>\n",
       "      <td>2</td>\n",
       "      <td>E</td>\n",
       "    </tr>\n",
       "    <tr>\n",
       "      <th>1</th>\n",
       "      <td>Mike</td>\n",
       "      <td>39</td>\n",
       "      <td>5</td>\n",
       "      <td>E</td>\n",
       "    </tr>\n",
       "    <tr>\n",
       "      <th>2</th>\n",
       "      <td>Sarah</td>\n",
       "      <td>27</td>\n",
       "      <td>18</td>\n",
       "      <td>I</td>\n",
       "    </tr>\n",
       "    <tr>\n",
       "      <th>3</th>\n",
       "      <td>Cody</td>\n",
       "      <td>31</td>\n",
       "      <td>7</td>\n",
       "      <td>E</td>\n",
       "    </tr>\n",
       "    <tr>\n",
       "      <th>4</th>\n",
       "      <td>Beth</td>\n",
       "      <td>22</td>\n",
       "      <td>5</td>\n",
       "      <td>E</td>\n",
       "    </tr>\n",
       "    <tr>\n",
       "      <th>5</th>\n",
       "      <td>Sally</td>\n",
       "      <td>41</td>\n",
       "      <td>8</td>\n",
       "      <td>I</td>\n",
       "    </tr>\n",
       "  </tbody>\n",
       "</table>\n",
       "</div>"
      ],
      "text/plain": [
       "    Name  Age  Clients Personality\n",
       "0   Dave   23        2           E\n",
       "1   Mike   39        5           E\n",
       "2  Sarah   27       18           I\n",
       "3   Cody   31        7           E\n",
       "4   Beth   22        5           E\n",
       "5  Sally   41        8           I"
      ]
     },
     "execution_count": 4,
     "metadata": {},
     "output_type": "execute_result"
    }
   ],
   "source": [
    "# Display the first 6 rows of the dataframe\n",
    "df.head(6)\n",
    "# E stands for extrovert and I stands for introvert"
   ]
  },
  {
   "cell_type": "code",
   "execution_count": 5,
   "metadata": {},
   "outputs": [
    {
     "data": {
      "image/png": "[encoded data removed]",
      "text/plain": [
       "<Figure size 432x288 with 1 Axes>"
      ]
     },
     "metadata": {
      "needs_background": "light"
     },
     "output_type": "display_data"
    }
   ],
   "source": [
    "# Using a scatter plot to Age and Clients\n",
    "plt.scatter(df.Age, df.Clients)\n",
    "plt.xlabel('Age')\n",
    "plt.ylabel('Number of clients');"
   ]
  },
  {
   "cell_type": "markdown",
   "metadata": {},
   "source": [
    "From the above scatter plot, it is difficult to distinctly see the clusters. It looks like I see the potential from three to five clusters. I will choose the happy medium of 4 to begin with for my K value"
   ]
  },
  {
   "cell_type": "code",
   "execution_count": 6,
   "metadata": {},
   "outputs": [
    {
     "data": {
      "text/plain": [
       "KMeans(algorithm='auto', copy_x=True, init='k-means++', max_iter=300,\n",
       "       n_clusters=4, n_init=10, n_jobs=None, precompute_distances='auto',\n",
       "       random_state=None, tol=0.0001, verbose=0)"
      ]
     },
     "execution_count": 6,
     "metadata": {},
     "output_type": "execute_result"
    }
   ],
   "source": [
    "km = KMeans(n_clusters=4)\n",
    "km"
   ]
  },
  {
   "cell_type": "code",
   "execution_count": 7,
   "metadata": {},
   "outputs": [
    {
     "data": {
      "text/plain": [
       "array([0, 1, 2, 0, 0, 1, 2, 1, 1, 2, 2, 1, 1, 0, 0, 1, 2, 3, 3, 0, 0, 0,\n",
       "       0, 3, 3, 1, 1, 2, 2, 0])"
      ]
     },
     "execution_count": 7,
     "metadata": {},
     "output_type": "execute_result"
    }
   ],
   "source": [
    "# Fit and predict. I will exclude the Name and Personality colunns since they are strings\n",
    "y_predicted = km.fit_predict(df[['Age', 'Clients']])\n",
    "y_predicted"
   ]
  },
  {
   "cell_type": "markdown",
   "metadata": {},
   "source": [
    "From the above output, we can see 4 clusters; 0, 1, 2, and 3."
   ]
  },
  {
   "cell_type": "code",
   "execution_count": 8,
   "metadata": {},
   "outputs": [
    {
     "data": {
      "text/html": [
       "<div>\n",
       "<style scoped>\n",
       "    .dataframe tbody tr th:only-of-type {\n",
       "        vertical-align: middle;\n",
       "    }\n",
       "\n",
       "    .dataframe tbody tr th {\n",
       "        vertical-align: top;\n",
       "    }\n",
       "\n",
       "    .dataframe thead th {\n",
       "        text-align: right;\n",
       "    }\n",
       "</style>\n",
       "<table border=\"1\" class=\"dataframe\">\n",
       "  <thead>\n",
       "    <tr style=\"text-align: right;\">\n",
       "      <th></th>\n",
       "      <th>Name</th>\n",
       "      <th>Age</th>\n",
       "      <th>Clients</th>\n",
       "      <th>Personality</th>\n",
       "      <th>Cluster</th>\n",
       "    </tr>\n",
       "  </thead>\n",
       "  <tbody>\n",
       "    <tr>\n",
       "      <th>0</th>\n",
       "      <td>Dave</td>\n",
       "      <td>23</td>\n",
       "      <td>2</td>\n",
       "      <td>E</td>\n",
       "      <td>0</td>\n",
       "    </tr>\n",
       "    <tr>\n",
       "      <th>1</th>\n",
       "      <td>Mike</td>\n",
       "      <td>39</td>\n",
       "      <td>5</td>\n",
       "      <td>E</td>\n",
       "      <td>1</td>\n",
       "    </tr>\n",
       "    <tr>\n",
       "      <th>2</th>\n",
       "      <td>Sarah</td>\n",
       "      <td>27</td>\n",
       "      <td>18</td>\n",
       "      <td>I</td>\n",
       "      <td>2</td>\n",
       "    </tr>\n",
       "    <tr>\n",
       "      <th>3</th>\n",
       "      <td>Cody</td>\n",
       "      <td>31</td>\n",
       "      <td>7</td>\n",
       "      <td>E</td>\n",
       "      <td>0</td>\n",
       "    </tr>\n",
       "    <tr>\n",
       "      <th>4</th>\n",
       "      <td>Beth</td>\n",
       "      <td>22</td>\n",
       "      <td>5</td>\n",
       "      <td>E</td>\n",
       "      <td>0</td>\n",
       "    </tr>\n",
       "    <tr>\n",
       "      <th>5</th>\n",
       "      <td>Sally</td>\n",
       "      <td>41</td>\n",
       "      <td>8</td>\n",
       "      <td>I</td>\n",
       "      <td>1</td>\n",
       "    </tr>\n",
       "  </tbody>\n",
       "</table>\n",
       "</div>"
      ],
      "text/plain": [
       "    Name  Age  Clients Personality  Cluster\n",
       "0   Dave   23        2           E        0\n",
       "1   Mike   39        5           E        1\n",
       "2  Sarah   27       18           I        2\n",
       "3   Cody   31        7           E        0\n",
       "4   Beth   22        5           E        0\n",
       "5  Sally   41        8           I        1"
      ]
     },
     "execution_count": 8,
     "metadata": {},
     "output_type": "execute_result"
    }
   ],
   "source": [
    "# Add a column called 'Cluster1' so that I can visually display the result\n",
    "# The values for the Cluster1 column will be the values in the y_predicted array\n",
    "df['Cluster'] = y_predicted\n",
    "df.head(6)"
   ]
  },
  {
   "cell_type": "code",
   "execution_count": 9,
   "metadata": {},
   "outputs": [
    {
     "data": {
      "image/png": "[encoded data removed]",
      "text/plain": [
       "<Figure size 432x288 with 1 Axes>"
      ]
     },
     "metadata": {
      "needs_background": "light"
     },
     "output_type": "display_data"
    }
   ],
   "source": [
    "# Create four sub-dataframes to be able to make the scatter plot\n",
    "df1 = df[df.Cluster == 0] # Only consists of rows where the the value is 0\n",
    "df2 = df[df.Cluster == 1] # Only consists of rows where the value is 1\n",
    "df3 = df[df.Cluster == 2]\n",
    "df4 = df[df.Cluster == 3]\n",
    "\n",
    "plt.scatter(df1.Age, df1.Clients, color = 'gold')\n",
    "plt.scatter(df2.Age, df2.Clients, color = 'red')\n",
    "plt.scatter(df3.Age, df3.Clients, color = 'green')\n",
    "plt.scatter(df4.Age, df4.Clients, color = 'purple')\n",
    "\n",
    "plt.xlabel('Age')\n",
    "plt.ylabel('Number of clients');\n"
   ]
  },
  {
   "cell_type": "markdown",
   "metadata": {},
   "source": [
    "There does not seem to be an issue with the above plot, but sometimes I may get an instance where there could a red mixed in with both the yellow and purple. Although this issue is not visually presented in the above figure. The steps to properly scale features if necessary will be done. "
   ]
  },
  {
   "cell_type": "code",
   "execution_count": 10,
   "metadata": {},
   "outputs": [],
   "source": [
    "#Create a copy of the dataframe for comparison on scaling versus non-scaling\n",
    "df2 = df.copy() \n",
    " \n"
   ]
  },
  {
   "cell_type": "code",
   "execution_count": 11,
   "metadata": {},
   "outputs": [
    {
     "data": {
      "text/html": [
       "<div>\n",
       "<style scoped>\n",
       "    .dataframe tbody tr th:only-of-type {\n",
       "        vertical-align: middle;\n",
       "    }\n",
       "\n",
       "    .dataframe tbody tr th {\n",
       "        vertical-align: top;\n",
       "    }\n",
       "\n",
       "    .dataframe thead th {\n",
       "        text-align: right;\n",
       "    }\n",
       "</style>\n",
       "<table border=\"1\" class=\"dataframe\">\n",
       "  <thead>\n",
       "    <tr style=\"text-align: right;\">\n",
       "      <th></th>\n",
       "      <th>Name</th>\n",
       "      <th>Age</th>\n",
       "      <th>Clients</th>\n",
       "      <th>Personality</th>\n",
       "      <th>Cluster</th>\n",
       "    </tr>\n",
       "  </thead>\n",
       "  <tbody>\n",
       "    <tr>\n",
       "      <th>0</th>\n",
       "      <td>Dave</td>\n",
       "      <td>0.030303</td>\n",
       "      <td>2</td>\n",
       "      <td>E</td>\n",
       "      <td>0</td>\n",
       "    </tr>\n",
       "    <tr>\n",
       "      <th>1</th>\n",
       "      <td>Mike</td>\n",
       "      <td>0.515152</td>\n",
       "      <td>5</td>\n",
       "      <td>E</td>\n",
       "      <td>1</td>\n",
       "    </tr>\n",
       "    <tr>\n",
       "      <th>2</th>\n",
       "      <td>Sarah</td>\n",
       "      <td>0.151515</td>\n",
       "      <td>18</td>\n",
       "      <td>I</td>\n",
       "      <td>2</td>\n",
       "    </tr>\n",
       "    <tr>\n",
       "      <th>3</th>\n",
       "      <td>Cody</td>\n",
       "      <td>0.272727</td>\n",
       "      <td>7</td>\n",
       "      <td>E</td>\n",
       "      <td>0</td>\n",
       "    </tr>\n",
       "    <tr>\n",
       "      <th>4</th>\n",
       "      <td>Beth</td>\n",
       "      <td>0.000000</td>\n",
       "      <td>5</td>\n",
       "      <td>E</td>\n",
       "      <td>0</td>\n",
       "    </tr>\n",
       "    <tr>\n",
       "      <th>5</th>\n",
       "      <td>Sally</td>\n",
       "      <td>0.575758</td>\n",
       "      <td>8</td>\n",
       "      <td>I</td>\n",
       "      <td>1</td>\n",
       "    </tr>\n",
       "    <tr>\n",
       "      <th>6</th>\n",
       "      <td>Will</td>\n",
       "      <td>0.363636</td>\n",
       "      <td>22</td>\n",
       "      <td>E</td>\n",
       "      <td>2</td>\n",
       "    </tr>\n",
       "    <tr>\n",
       "      <th>7</th>\n",
       "      <td>Donald</td>\n",
       "      <td>1.000000</td>\n",
       "      <td>5</td>\n",
       "      <td>E</td>\n",
       "      <td>1</td>\n",
       "    </tr>\n",
       "    <tr>\n",
       "      <th>8</th>\n",
       "      <td>Donnelly</td>\n",
       "      <td>0.636364</td>\n",
       "      <td>8</td>\n",
       "      <td>I</td>\n",
       "      <td>1</td>\n",
       "    </tr>\n",
       "    <tr>\n",
       "      <th>9</th>\n",
       "      <td>Shelby</td>\n",
       "      <td>0.000000</td>\n",
       "      <td>12</td>\n",
       "      <td>E</td>\n",
       "      <td>2</td>\n",
       "    </tr>\n",
       "    <tr>\n",
       "      <th>10</th>\n",
       "      <td>Vanessa</td>\n",
       "      <td>0.090909</td>\n",
       "      <td>15</td>\n",
       "      <td>I</td>\n",
       "      <td>2</td>\n",
       "    </tr>\n",
       "    <tr>\n",
       "      <th>11</th>\n",
       "      <td>Dan</td>\n",
       "      <td>0.454545</td>\n",
       "      <td>1</td>\n",
       "      <td>I</td>\n",
       "      <td>1</td>\n",
       "    </tr>\n",
       "    <tr>\n",
       "      <th>12</th>\n",
       "      <td>Seth</td>\n",
       "      <td>0.666667</td>\n",
       "      <td>0</td>\n",
       "      <td>I</td>\n",
       "      <td>1</td>\n",
       "    </tr>\n",
       "    <tr>\n",
       "      <th>13</th>\n",
       "      <td>Roan</td>\n",
       "      <td>0.242424</td>\n",
       "      <td>3</td>\n",
       "      <td>E</td>\n",
       "      <td>0</td>\n",
       "    </tr>\n",
       "    <tr>\n",
       "      <th>14</th>\n",
       "      <td>Kristen</td>\n",
       "      <td>0.212121</td>\n",
       "      <td>6</td>\n",
       "      <td>E</td>\n",
       "      <td>0</td>\n",
       "    </tr>\n",
       "    <tr>\n",
       "      <th>15</th>\n",
       "      <td>Haley</td>\n",
       "      <td>0.484848</td>\n",
       "      <td>8</td>\n",
       "      <td>I</td>\n",
       "      <td>1</td>\n",
       "    </tr>\n",
       "    <tr>\n",
       "      <th>16</th>\n",
       "      <td>Keith</td>\n",
       "      <td>0.060606</td>\n",
       "      <td>15</td>\n",
       "      <td>E</td>\n",
       "      <td>2</td>\n",
       "    </tr>\n",
       "    <tr>\n",
       "      <th>17</th>\n",
       "      <td>Doug</td>\n",
       "      <td>0.818182</td>\n",
       "      <td>20</td>\n",
       "      <td>E</td>\n",
       "      <td>3</td>\n",
       "    </tr>\n",
       "    <tr>\n",
       "      <th>18</th>\n",
       "      <td>Roger</td>\n",
       "      <td>0.515152</td>\n",
       "      <td>22</td>\n",
       "      <td>E</td>\n",
       "      <td>3</td>\n",
       "    </tr>\n",
       "    <tr>\n",
       "      <th>19</th>\n",
       "      <td>Jody</td>\n",
       "      <td>0.121212</td>\n",
       "      <td>8</td>\n",
       "      <td>I</td>\n",
       "      <td>0</td>\n",
       "    </tr>\n",
       "    <tr>\n",
       "      <th>20</th>\n",
       "      <td>Deanna</td>\n",
       "      <td>0.303030</td>\n",
       "      <td>10</td>\n",
       "      <td>E</td>\n",
       "      <td>0</td>\n",
       "    </tr>\n",
       "    <tr>\n",
       "      <th>21</th>\n",
       "      <td>Tory</td>\n",
       "      <td>0.242424</td>\n",
       "      <td>3</td>\n",
       "      <td>I</td>\n",
       "      <td>0</td>\n",
       "    </tr>\n",
       "    <tr>\n",
       "      <th>22</th>\n",
       "      <td>Jessica</td>\n",
       "      <td>0.181818</td>\n",
       "      <td>11</td>\n",
       "      <td>I</td>\n",
       "      <td>0</td>\n",
       "    </tr>\n",
       "    <tr>\n",
       "      <th>23</th>\n",
       "      <td>Gary</td>\n",
       "      <td>0.545455</td>\n",
       "      <td>19</td>\n",
       "      <td>I</td>\n",
       "      <td>3</td>\n",
       "    </tr>\n",
       "    <tr>\n",
       "      <th>24</th>\n",
       "      <td>Anna</td>\n",
       "      <td>0.848485</td>\n",
       "      <td>20</td>\n",
       "      <td>I</td>\n",
       "      <td>3</td>\n",
       "    </tr>\n",
       "    <tr>\n",
       "      <th>25</th>\n",
       "      <td>Dustin</td>\n",
       "      <td>0.484848</td>\n",
       "      <td>8</td>\n",
       "      <td>E</td>\n",
       "      <td>1</td>\n",
       "    </tr>\n",
       "    <tr>\n",
       "      <th>26</th>\n",
       "      <td>Rachel</td>\n",
       "      <td>0.575758</td>\n",
       "      <td>7</td>\n",
       "      <td>E</td>\n",
       "      <td>1</td>\n",
       "    </tr>\n",
       "    <tr>\n",
       "      <th>27</th>\n",
       "      <td>Kim</td>\n",
       "      <td>0.212121</td>\n",
       "      <td>17</td>\n",
       "      <td>E</td>\n",
       "      <td>2</td>\n",
       "    </tr>\n",
       "    <tr>\n",
       "      <th>28</th>\n",
       "      <td>Joanna</td>\n",
       "      <td>0.272727</td>\n",
       "      <td>23</td>\n",
       "      <td>I</td>\n",
       "      <td>2</td>\n",
       "    </tr>\n",
       "    <tr>\n",
       "      <th>29</th>\n",
       "      <td>Jill</td>\n",
       "      <td>0.151515</td>\n",
       "      <td>1</td>\n",
       "      <td>E</td>\n",
       "      <td>0</td>\n",
       "    </tr>\n",
       "  </tbody>\n",
       "</table>\n",
       "</div>"
      ],
      "text/plain": [
       "        Name       Age  Clients Personality  Cluster\n",
       "0       Dave  0.030303        2           E        0\n",
       "1       Mike  0.515152        5           E        1\n",
       "2      Sarah  0.151515       18           I        2\n",
       "3       Cody  0.272727        7           E        0\n",
       "4       Beth  0.000000        5           E        0\n",
       "5      Sally  0.575758        8           I        1\n",
       "6       Will  0.363636       22           E        2\n",
       "7     Donald  1.000000        5           E        1\n",
       "8   Donnelly  0.636364        8           I        1\n",
       "9     Shelby  0.000000       12           E        2\n",
       "10   Vanessa  0.090909       15           I        2\n",
       "11       Dan  0.454545        1           I        1\n",
       "12      Seth  0.666667        0           I        1\n",
       "13      Roan  0.242424        3           E        0\n",
       "14   Kristen  0.212121        6           E        0\n",
       "15     Haley  0.484848        8           I        1\n",
       "16     Keith  0.060606       15           E        2\n",
       "17      Doug  0.818182       20           E        3\n",
       "18     Roger  0.515152       22           E        3\n",
       "19      Jody  0.121212        8           I        0\n",
       "20    Deanna  0.303030       10           E        0\n",
       "21      Tory  0.242424        3           I        0\n",
       "22   Jessica  0.181818       11           I        0\n",
       "23      Gary  0.545455       19           I        3\n",
       "24      Anna  0.848485       20           I        3\n",
       "25    Dustin  0.484848        8           E        1\n",
       "26    Rachel  0.575758        7           E        1\n",
       "27       Kim  0.212121       17           E        2\n",
       "28    Joanna  0.272727       23           I        2\n",
       "29      Jill  0.151515        1           E        0"
      ]
     },
     "execution_count": 11,
     "metadata": {},
     "output_type": "execute_result"
    }
   ],
   "source": [
    "# Scale the Age column from 0 to 1\n",
    "scaler = MinMaxScaler()\n",
    "scaler.fit(df2[['Age']]) # I will try scaling Age since it does not start at zero\n",
    "df2['Age'] = scaler.transform(df2[['Age']])\n",
    "df2"
   ]
  },
  {
   "cell_type": "markdown",
   "metadata": {},
   "source": [
    "Now the Age column has been scaled to where values are between 0 and 1."
   ]
  },
  {
   "cell_type": "code",
   "execution_count": 12,
   "metadata": {},
   "outputs": [
    {
     "data": {
      "text/html": [
       "<div>\n",
       "<style scoped>\n",
       "    .dataframe tbody tr th:only-of-type {\n",
       "        vertical-align: middle;\n",
       "    }\n",
       "\n",
       "    .dataframe tbody tr th {\n",
       "        vertical-align: top;\n",
       "    }\n",
       "\n",
       "    .dataframe thead th {\n",
       "        text-align: right;\n",
       "    }\n",
       "</style>\n",
       "<table border=\"1\" class=\"dataframe\">\n",
       "  <thead>\n",
       "    <tr style=\"text-align: right;\">\n",
       "      <th></th>\n",
       "      <th>Name</th>\n",
       "      <th>Age</th>\n",
       "      <th>Clients</th>\n",
       "      <th>Personality</th>\n",
       "      <th>Cluster</th>\n",
       "    </tr>\n",
       "  </thead>\n",
       "  <tbody>\n",
       "    <tr>\n",
       "      <th>0</th>\n",
       "      <td>Dave</td>\n",
       "      <td>0.030303</td>\n",
       "      <td>0.086957</td>\n",
       "      <td>E</td>\n",
       "      <td>0</td>\n",
       "    </tr>\n",
       "    <tr>\n",
       "      <th>1</th>\n",
       "      <td>Mike</td>\n",
       "      <td>0.515152</td>\n",
       "      <td>0.217391</td>\n",
       "      <td>E</td>\n",
       "      <td>1</td>\n",
       "    </tr>\n",
       "    <tr>\n",
       "      <th>2</th>\n",
       "      <td>Sarah</td>\n",
       "      <td>0.151515</td>\n",
       "      <td>0.782609</td>\n",
       "      <td>I</td>\n",
       "      <td>2</td>\n",
       "    </tr>\n",
       "    <tr>\n",
       "      <th>3</th>\n",
       "      <td>Cody</td>\n",
       "      <td>0.272727</td>\n",
       "      <td>0.304348</td>\n",
       "      <td>E</td>\n",
       "      <td>0</td>\n",
       "    </tr>\n",
       "    <tr>\n",
       "      <th>4</th>\n",
       "      <td>Beth</td>\n",
       "      <td>0.000000</td>\n",
       "      <td>0.217391</td>\n",
       "      <td>E</td>\n",
       "      <td>0</td>\n",
       "    </tr>\n",
       "    <tr>\n",
       "      <th>5</th>\n",
       "      <td>Sally</td>\n",
       "      <td>0.575758</td>\n",
       "      <td>0.347826</td>\n",
       "      <td>I</td>\n",
       "      <td>1</td>\n",
       "    </tr>\n",
       "    <tr>\n",
       "      <th>6</th>\n",
       "      <td>Will</td>\n",
       "      <td>0.363636</td>\n",
       "      <td>0.956522</td>\n",
       "      <td>E</td>\n",
       "      <td>2</td>\n",
       "    </tr>\n",
       "    <tr>\n",
       "      <th>7</th>\n",
       "      <td>Donald</td>\n",
       "      <td>1.000000</td>\n",
       "      <td>0.217391</td>\n",
       "      <td>E</td>\n",
       "      <td>1</td>\n",
       "    </tr>\n",
       "    <tr>\n",
       "      <th>8</th>\n",
       "      <td>Donnelly</td>\n",
       "      <td>0.636364</td>\n",
       "      <td>0.347826</td>\n",
       "      <td>I</td>\n",
       "      <td>1</td>\n",
       "    </tr>\n",
       "    <tr>\n",
       "      <th>9</th>\n",
       "      <td>Shelby</td>\n",
       "      <td>0.000000</td>\n",
       "      <td>0.521739</td>\n",
       "      <td>E</td>\n",
       "      <td>2</td>\n",
       "    </tr>\n",
       "    <tr>\n",
       "      <th>10</th>\n",
       "      <td>Vanessa</td>\n",
       "      <td>0.090909</td>\n",
       "      <td>0.652174</td>\n",
       "      <td>I</td>\n",
       "      <td>2</td>\n",
       "    </tr>\n",
       "    <tr>\n",
       "      <th>11</th>\n",
       "      <td>Dan</td>\n",
       "      <td>0.454545</td>\n",
       "      <td>0.043478</td>\n",
       "      <td>I</td>\n",
       "      <td>1</td>\n",
       "    </tr>\n",
       "    <tr>\n",
       "      <th>12</th>\n",
       "      <td>Seth</td>\n",
       "      <td>0.666667</td>\n",
       "      <td>0.000000</td>\n",
       "      <td>I</td>\n",
       "      <td>1</td>\n",
       "    </tr>\n",
       "    <tr>\n",
       "      <th>13</th>\n",
       "      <td>Roan</td>\n",
       "      <td>0.242424</td>\n",
       "      <td>0.130435</td>\n",
       "      <td>E</td>\n",
       "      <td>0</td>\n",
       "    </tr>\n",
       "    <tr>\n",
       "      <th>14</th>\n",
       "      <td>Kristen</td>\n",
       "      <td>0.212121</td>\n",
       "      <td>0.260870</td>\n",
       "      <td>E</td>\n",
       "      <td>0</td>\n",
       "    </tr>\n",
       "    <tr>\n",
       "      <th>15</th>\n",
       "      <td>Haley</td>\n",
       "      <td>0.484848</td>\n",
       "      <td>0.347826</td>\n",
       "      <td>I</td>\n",
       "      <td>1</td>\n",
       "    </tr>\n",
       "    <tr>\n",
       "      <th>16</th>\n",
       "      <td>Keith</td>\n",
       "      <td>0.060606</td>\n",
       "      <td>0.652174</td>\n",
       "      <td>E</td>\n",
       "      <td>2</td>\n",
       "    </tr>\n",
       "    <tr>\n",
       "      <th>17</th>\n",
       "      <td>Doug</td>\n",
       "      <td>0.818182</td>\n",
       "      <td>0.869565</td>\n",
       "      <td>E</td>\n",
       "      <td>3</td>\n",
       "    </tr>\n",
       "    <tr>\n",
       "      <th>18</th>\n",
       "      <td>Roger</td>\n",
       "      <td>0.515152</td>\n",
       "      <td>0.956522</td>\n",
       "      <td>E</td>\n",
       "      <td>3</td>\n",
       "    </tr>\n",
       "    <tr>\n",
       "      <th>19</th>\n",
       "      <td>Jody</td>\n",
       "      <td>0.121212</td>\n",
       "      <td>0.347826</td>\n",
       "      <td>I</td>\n",
       "      <td>0</td>\n",
       "    </tr>\n",
       "    <tr>\n",
       "      <th>20</th>\n",
       "      <td>Deanna</td>\n",
       "      <td>0.303030</td>\n",
       "      <td>0.434783</td>\n",
       "      <td>E</td>\n",
       "      <td>0</td>\n",
       "    </tr>\n",
       "    <tr>\n",
       "      <th>21</th>\n",
       "      <td>Tory</td>\n",
       "      <td>0.242424</td>\n",
       "      <td>0.130435</td>\n",
       "      <td>I</td>\n",
       "      <td>0</td>\n",
       "    </tr>\n",
       "    <tr>\n",
       "      <th>22</th>\n",
       "      <td>Jessica</td>\n",
       "      <td>0.181818</td>\n",
       "      <td>0.478261</td>\n",
       "      <td>I</td>\n",
       "      <td>0</td>\n",
       "    </tr>\n",
       "    <tr>\n",
       "      <th>23</th>\n",
       "      <td>Gary</td>\n",
       "      <td>0.545455</td>\n",
       "      <td>0.826087</td>\n",
       "      <td>I</td>\n",
       "      <td>3</td>\n",
       "    </tr>\n",
       "    <tr>\n",
       "      <th>24</th>\n",
       "      <td>Anna</td>\n",
       "      <td>0.848485</td>\n",
       "      <td>0.869565</td>\n",
       "      <td>I</td>\n",
       "      <td>3</td>\n",
       "    </tr>\n",
       "    <tr>\n",
       "      <th>25</th>\n",
       "      <td>Dustin</td>\n",
       "      <td>0.484848</td>\n",
       "      <td>0.347826</td>\n",
       "      <td>E</td>\n",
       "      <td>1</td>\n",
       "    </tr>\n",
       "    <tr>\n",
       "      <th>26</th>\n",
       "      <td>Rachel</td>\n",
       "      <td>0.575758</td>\n",
       "      <td>0.304348</td>\n",
       "      <td>E</td>\n",
       "      <td>1</td>\n",
       "    </tr>\n",
       "    <tr>\n",
       "      <th>27</th>\n",
       "      <td>Kim</td>\n",
       "      <td>0.212121</td>\n",
       "      <td>0.739130</td>\n",
       "      <td>E</td>\n",
       "      <td>2</td>\n",
       "    </tr>\n",
       "    <tr>\n",
       "      <th>28</th>\n",
       "      <td>Joanna</td>\n",
       "      <td>0.272727</td>\n",
       "      <td>1.000000</td>\n",
       "      <td>I</td>\n",
       "      <td>2</td>\n",
       "    </tr>\n",
       "    <tr>\n",
       "      <th>29</th>\n",
       "      <td>Jill</td>\n",
       "      <td>0.151515</td>\n",
       "      <td>0.043478</td>\n",
       "      <td>E</td>\n",
       "      <td>0</td>\n",
       "    </tr>\n",
       "  </tbody>\n",
       "</table>\n",
       "</div>"
      ],
      "text/plain": [
       "        Name       Age   Clients Personality  Cluster\n",
       "0       Dave  0.030303  0.086957           E        0\n",
       "1       Mike  0.515152  0.217391           E        1\n",
       "2      Sarah  0.151515  0.782609           I        2\n",
       "3       Cody  0.272727  0.304348           E        0\n",
       "4       Beth  0.000000  0.217391           E        0\n",
       "5      Sally  0.575758  0.347826           I        1\n",
       "6       Will  0.363636  0.956522           E        2\n",
       "7     Donald  1.000000  0.217391           E        1\n",
       "8   Donnelly  0.636364  0.347826           I        1\n",
       "9     Shelby  0.000000  0.521739           E        2\n",
       "10   Vanessa  0.090909  0.652174           I        2\n",
       "11       Dan  0.454545  0.043478           I        1\n",
       "12      Seth  0.666667  0.000000           I        1\n",
       "13      Roan  0.242424  0.130435           E        0\n",
       "14   Kristen  0.212121  0.260870           E        0\n",
       "15     Haley  0.484848  0.347826           I        1\n",
       "16     Keith  0.060606  0.652174           E        2\n",
       "17      Doug  0.818182  0.869565           E        3\n",
       "18     Roger  0.515152  0.956522           E        3\n",
       "19      Jody  0.121212  0.347826           I        0\n",
       "20    Deanna  0.303030  0.434783           E        0\n",
       "21      Tory  0.242424  0.130435           I        0\n",
       "22   Jessica  0.181818  0.478261           I        0\n",
       "23      Gary  0.545455  0.826087           I        3\n",
       "24      Anna  0.848485  0.869565           I        3\n",
       "25    Dustin  0.484848  0.347826           E        1\n",
       "26    Rachel  0.575758  0.304348           E        1\n",
       "27       Kim  0.212121  0.739130           E        2\n",
       "28    Joanna  0.272727  1.000000           I        2\n",
       "29      Jill  0.151515  0.043478           E        0"
      ]
     },
     "execution_count": 12,
     "metadata": {},
     "output_type": "execute_result"
    }
   ],
   "source": [
    "# Apply the same steps for 'Clients' column\n",
    "scaler.fit(df2[['Clients']])\n",
    "df2.Clients = scaler.transform(df2[['Clients']])\n",
    "df2"
   ]
  },
  {
   "cell_type": "code",
   "execution_count": 13,
   "metadata": {},
   "outputs": [
    {
     "data": {
      "text/plain": [
       "array([0, 3, 2, 0, 0, 3, 1, 3, 3, 2, 2, 3, 3, 0, 0, 3, 2, 1, 1, 0, 2, 0,\n",
       "       2, 1, 1, 3, 3, 2, 1, 0])"
      ]
     },
     "execution_count": 13,
     "metadata": {},
     "output_type": "execute_result"
    }
   ],
   "source": [
    "# Run the K Means algorithm once again with the scaled data\n",
    "km2 = KMeans(n_clusters = 4)\n",
    "y_predicted2 = km2.fit_predict(df2[['Age', 'Clients']])\n",
    "y_predicted2"
   ]
  },
  {
   "cell_type": "code",
   "execution_count": 14,
   "metadata": {},
   "outputs": [
    {
     "data": {
      "text/html": [
       "<div>\n",
       "<style scoped>\n",
       "    .dataframe tbody tr th:only-of-type {\n",
       "        vertical-align: middle;\n",
       "    }\n",
       "\n",
       "    .dataframe tbody tr th {\n",
       "        vertical-align: top;\n",
       "    }\n",
       "\n",
       "    .dataframe thead th {\n",
       "        text-align: right;\n",
       "    }\n",
       "</style>\n",
       "<table border=\"1\" class=\"dataframe\">\n",
       "  <thead>\n",
       "    <tr style=\"text-align: right;\">\n",
       "      <th></th>\n",
       "      <th>Name</th>\n",
       "      <th>Age</th>\n",
       "      <th>Clients</th>\n",
       "      <th>Personality</th>\n",
       "      <th>Cluster</th>\n",
       "    </tr>\n",
       "  </thead>\n",
       "  <tbody>\n",
       "    <tr>\n",
       "      <th>0</th>\n",
       "      <td>Dave</td>\n",
       "      <td>0.030303</td>\n",
       "      <td>0.086957</td>\n",
       "      <td>E</td>\n",
       "      <td>0</td>\n",
       "    </tr>\n",
       "    <tr>\n",
       "      <th>1</th>\n",
       "      <td>Mike</td>\n",
       "      <td>0.515152</td>\n",
       "      <td>0.217391</td>\n",
       "      <td>E</td>\n",
       "      <td>3</td>\n",
       "    </tr>\n",
       "    <tr>\n",
       "      <th>2</th>\n",
       "      <td>Sarah</td>\n",
       "      <td>0.151515</td>\n",
       "      <td>0.782609</td>\n",
       "      <td>I</td>\n",
       "      <td>2</td>\n",
       "    </tr>\n",
       "    <tr>\n",
       "      <th>3</th>\n",
       "      <td>Cody</td>\n",
       "      <td>0.272727</td>\n",
       "      <td>0.304348</td>\n",
       "      <td>E</td>\n",
       "      <td>0</td>\n",
       "    </tr>\n",
       "    <tr>\n",
       "      <th>4</th>\n",
       "      <td>Beth</td>\n",
       "      <td>0.000000</td>\n",
       "      <td>0.217391</td>\n",
       "      <td>E</td>\n",
       "      <td>0</td>\n",
       "    </tr>\n",
       "    <tr>\n",
       "      <th>5</th>\n",
       "      <td>Sally</td>\n",
       "      <td>0.575758</td>\n",
       "      <td>0.347826</td>\n",
       "      <td>I</td>\n",
       "      <td>3</td>\n",
       "    </tr>\n",
       "    <tr>\n",
       "      <th>6</th>\n",
       "      <td>Will</td>\n",
       "      <td>0.363636</td>\n",
       "      <td>0.956522</td>\n",
       "      <td>E</td>\n",
       "      <td>1</td>\n",
       "    </tr>\n",
       "    <tr>\n",
       "      <th>7</th>\n",
       "      <td>Donald</td>\n",
       "      <td>1.000000</td>\n",
       "      <td>0.217391</td>\n",
       "      <td>E</td>\n",
       "      <td>3</td>\n",
       "    </tr>\n",
       "    <tr>\n",
       "      <th>8</th>\n",
       "      <td>Donnelly</td>\n",
       "      <td>0.636364</td>\n",
       "      <td>0.347826</td>\n",
       "      <td>I</td>\n",
       "      <td>3</td>\n",
       "    </tr>\n",
       "    <tr>\n",
       "      <th>9</th>\n",
       "      <td>Shelby</td>\n",
       "      <td>0.000000</td>\n",
       "      <td>0.521739</td>\n",
       "      <td>E</td>\n",
       "      <td>2</td>\n",
       "    </tr>\n",
       "    <tr>\n",
       "      <th>10</th>\n",
       "      <td>Vanessa</td>\n",
       "      <td>0.090909</td>\n",
       "      <td>0.652174</td>\n",
       "      <td>I</td>\n",
       "      <td>2</td>\n",
       "    </tr>\n",
       "    <tr>\n",
       "      <th>11</th>\n",
       "      <td>Dan</td>\n",
       "      <td>0.454545</td>\n",
       "      <td>0.043478</td>\n",
       "      <td>I</td>\n",
       "      <td>3</td>\n",
       "    </tr>\n",
       "    <tr>\n",
       "      <th>12</th>\n",
       "      <td>Seth</td>\n",
       "      <td>0.666667</td>\n",
       "      <td>0.000000</td>\n",
       "      <td>I</td>\n",
       "      <td>3</td>\n",
       "    </tr>\n",
       "    <tr>\n",
       "      <th>13</th>\n",
       "      <td>Roan</td>\n",
       "      <td>0.242424</td>\n",
       "      <td>0.130435</td>\n",
       "      <td>E</td>\n",
       "      <td>0</td>\n",
       "    </tr>\n",
       "    <tr>\n",
       "      <th>14</th>\n",
       "      <td>Kristen</td>\n",
       "      <td>0.212121</td>\n",
       "      <td>0.260870</td>\n",
       "      <td>E</td>\n",
       "      <td>0</td>\n",
       "    </tr>\n",
       "    <tr>\n",
       "      <th>15</th>\n",
       "      <td>Haley</td>\n",
       "      <td>0.484848</td>\n",
       "      <td>0.347826</td>\n",
       "      <td>I</td>\n",
       "      <td>3</td>\n",
       "    </tr>\n",
       "    <tr>\n",
       "      <th>16</th>\n",
       "      <td>Keith</td>\n",
       "      <td>0.060606</td>\n",
       "      <td>0.652174</td>\n",
       "      <td>E</td>\n",
       "      <td>2</td>\n",
       "    </tr>\n",
       "    <tr>\n",
       "      <th>17</th>\n",
       "      <td>Doug</td>\n",
       "      <td>0.818182</td>\n",
       "      <td>0.869565</td>\n",
       "      <td>E</td>\n",
       "      <td>1</td>\n",
       "    </tr>\n",
       "    <tr>\n",
       "      <th>18</th>\n",
       "      <td>Roger</td>\n",
       "      <td>0.515152</td>\n",
       "      <td>0.956522</td>\n",
       "      <td>E</td>\n",
       "      <td>1</td>\n",
       "    </tr>\n",
       "    <tr>\n",
       "      <th>19</th>\n",
       "      <td>Jody</td>\n",
       "      <td>0.121212</td>\n",
       "      <td>0.347826</td>\n",
       "      <td>I</td>\n",
       "      <td>0</td>\n",
       "    </tr>\n",
       "    <tr>\n",
       "      <th>20</th>\n",
       "      <td>Deanna</td>\n",
       "      <td>0.303030</td>\n",
       "      <td>0.434783</td>\n",
       "      <td>E</td>\n",
       "      <td>2</td>\n",
       "    </tr>\n",
       "    <tr>\n",
       "      <th>21</th>\n",
       "      <td>Tory</td>\n",
       "      <td>0.242424</td>\n",
       "      <td>0.130435</td>\n",
       "      <td>I</td>\n",
       "      <td>0</td>\n",
       "    </tr>\n",
       "    <tr>\n",
       "      <th>22</th>\n",
       "      <td>Jessica</td>\n",
       "      <td>0.181818</td>\n",
       "      <td>0.478261</td>\n",
       "      <td>I</td>\n",
       "      <td>2</td>\n",
       "    </tr>\n",
       "    <tr>\n",
       "      <th>23</th>\n",
       "      <td>Gary</td>\n",
       "      <td>0.545455</td>\n",
       "      <td>0.826087</td>\n",
       "      <td>I</td>\n",
       "      <td>1</td>\n",
       "    </tr>\n",
       "    <tr>\n",
       "      <th>24</th>\n",
       "      <td>Anna</td>\n",
       "      <td>0.848485</td>\n",
       "      <td>0.869565</td>\n",
       "      <td>I</td>\n",
       "      <td>1</td>\n",
       "    </tr>\n",
       "    <tr>\n",
       "      <th>25</th>\n",
       "      <td>Dustin</td>\n",
       "      <td>0.484848</td>\n",
       "      <td>0.347826</td>\n",
       "      <td>E</td>\n",
       "      <td>3</td>\n",
       "    </tr>\n",
       "    <tr>\n",
       "      <th>26</th>\n",
       "      <td>Rachel</td>\n",
       "      <td>0.575758</td>\n",
       "      <td>0.304348</td>\n",
       "      <td>E</td>\n",
       "      <td>3</td>\n",
       "    </tr>\n",
       "    <tr>\n",
       "      <th>27</th>\n",
       "      <td>Kim</td>\n",
       "      <td>0.212121</td>\n",
       "      <td>0.739130</td>\n",
       "      <td>E</td>\n",
       "      <td>2</td>\n",
       "    </tr>\n",
       "    <tr>\n",
       "      <th>28</th>\n",
       "      <td>Joanna</td>\n",
       "      <td>0.272727</td>\n",
       "      <td>1.000000</td>\n",
       "      <td>I</td>\n",
       "      <td>1</td>\n",
       "    </tr>\n",
       "    <tr>\n",
       "      <th>29</th>\n",
       "      <td>Jill</td>\n",
       "      <td>0.151515</td>\n",
       "      <td>0.043478</td>\n",
       "      <td>E</td>\n",
       "      <td>0</td>\n",
       "    </tr>\n",
       "  </tbody>\n",
       "</table>\n",
       "</div>"
      ],
      "text/plain": [
       "        Name       Age   Clients Personality  Cluster\n",
       "0       Dave  0.030303  0.086957           E        0\n",
       "1       Mike  0.515152  0.217391           E        3\n",
       "2      Sarah  0.151515  0.782609           I        2\n",
       "3       Cody  0.272727  0.304348           E        0\n",
       "4       Beth  0.000000  0.217391           E        0\n",
       "5      Sally  0.575758  0.347826           I        3\n",
       "6       Will  0.363636  0.956522           E        1\n",
       "7     Donald  1.000000  0.217391           E        3\n",
       "8   Donnelly  0.636364  0.347826           I        3\n",
       "9     Shelby  0.000000  0.521739           E        2\n",
       "10   Vanessa  0.090909  0.652174           I        2\n",
       "11       Dan  0.454545  0.043478           I        3\n",
       "12      Seth  0.666667  0.000000           I        3\n",
       "13      Roan  0.242424  0.130435           E        0\n",
       "14   Kristen  0.212121  0.260870           E        0\n",
       "15     Haley  0.484848  0.347826           I        3\n",
       "16     Keith  0.060606  0.652174           E        2\n",
       "17      Doug  0.818182  0.869565           E        1\n",
       "18     Roger  0.515152  0.956522           E        1\n",
       "19      Jody  0.121212  0.347826           I        0\n",
       "20    Deanna  0.303030  0.434783           E        2\n",
       "21      Tory  0.242424  0.130435           I        0\n",
       "22   Jessica  0.181818  0.478261           I        2\n",
       "23      Gary  0.545455  0.826087           I        1\n",
       "24      Anna  0.848485  0.869565           I        1\n",
       "25    Dustin  0.484848  0.347826           E        3\n",
       "26    Rachel  0.575758  0.304348           E        3\n",
       "27       Kim  0.212121  0.739130           E        2\n",
       "28    Joanna  0.272727  1.000000           I        1\n",
       "29      Jill  0.151515  0.043478           E        0"
      ]
     },
     "execution_count": 14,
     "metadata": {},
     "output_type": "execute_result"
    }
   ],
   "source": [
    "df2['Cluster'] = y_predicted2\n",
    "df2"
   ]
  },
  {
   "cell_type": "code",
   "execution_count": 15,
   "metadata": {},
   "outputs": [
    {
     "name": "stdout",
     "output_type": "stream",
     "text": [
      "     Name  Age  Clients Personality  Cluster\n",
      "0    Dave   23        2           E        0\n",
      "1    Mike   39        5           E        1\n",
      "2   Sarah   27       18           I        2\n",
      "3    Cody   31        7           E        0\n",
      "4    Beth   22        5           E        0\n",
      "5   Sally   41        8           I        1\n",
      "6    Will   34       22           E        2\n",
      "7  Donald   55        5           E        1\n",
      "\n",
      "     Name       Age   Clients Personality  Cluster\n",
      "0    Dave  0.030303  0.086957           E        0\n",
      "1    Mike  0.515152  0.217391           E        3\n",
      "2   Sarah  0.151515  0.782609           I        2\n",
      "3    Cody  0.272727  0.304348           E        0\n",
      "4    Beth  0.000000  0.217391           E        0\n",
      "5   Sally  0.575758  0.347826           I        3\n",
      "6    Will  0.363636  0.956522           E        1\n",
      "7  Donald  1.000000  0.217391           E        3\n"
     ]
    }
   ],
   "source": [
    "print(df.head(8))\n",
    "print()\n",
    "print(df2.head(8))"
   ]
  },
  {
   "cell_type": "code",
   "execution_count": 16,
   "metadata": {},
   "outputs": [
    {
     "data": {
      "image/png": "[encoded data removed]",
      "text/plain": [
       "<Figure size 1080x360 with 2 Axes>"
      ]
     },
     "metadata": {
      "needs_background": "light"
     },
     "output_type": "display_data"
    }
   ],
   "source": [
    "df_a0 = df[df.Cluster == 0] \n",
    "df_a1 = df[df.Cluster == 1]\n",
    "df_a2 = df[df.Cluster == 2]\n",
    "df_a3 = df[df.Cluster == 3]\n",
    "\n",
    "plt.figure(figsize = (15, 5))\n",
    "plt.subplot(1, 2, 1)\n",
    "plt.scatter(df_a0.Age, df_a0.Clients, color = 'gold')\n",
    "plt.scatter(df_a1.Age, df_a1.Clients, color = 'red')\n",
    "plt.scatter(df_a2.Age, df_a2.Clients, color = 'green')\n",
    "plt.scatter(df_a3.Age, df_a3.Clients, color = 'purple')\n",
    "plt.scatter(km.cluster_centers_[:, 0], km.cluster_centers_[:,1], color = 'black', marker = '*', label = 'Centroid')\n",
    "plt.xlabel('Age')\n",
    "plt.ylabel('Number of clients')\n",
    "plt.title('Non-Scaled Scatter Plot')\n",
    "plt.legend();\n",
    "\n",
    " \n",
    "df_b0 = df2[df2.Cluster == 0]\n",
    "df_b1 = df2[df2.Cluster == 1]\n",
    "df_b2 = df2[df2.Cluster == 2]\n",
    "df_b3 = df2[df2.Cluster == 3]\n",
    "\n",
    "plt.subplot(1, 2, 2)\n",
    "plt.scatter(df_b0.Age, df_b0.Clients, color = 'Gold')\n",
    "plt.scatter(df_b1.Age, df_b1.Clients, color = 'red')\n",
    "plt.scatter(df_b2.Age, df_b2.Clients, color = 'green')\n",
    "plt.scatter(df_b3.Age, df_b3.Clients, color = 'purple')\n",
    "plt.scatter(km2.cluster_centers_[:, 0], km2.cluster_centers_[:, 1], color = 'black', marker = '*', label = 'Centroid')\n",
    "\n",
    "plt.xlabel('Age')\n",
    "plt.ylabel('Number of clients')\n",
    "plt.title('Scaled Scatter Plot')\n",
    "plt.legend();"
   ]
  },
  {
   "cell_type": "markdown",
   "metadata": {},
   "source": [
    "Scaling both the age and clients columns did have an effect on how the data points were clustered. There were no changes in the data points in color red. There were shifts for data points that were in the other categories. This example shows how there can be a difference in how data can be clustered depending on whether the values are scaled or not. I also notice the how the centroids have shifted locations to some degree when scaling the data."
   ]
  },
  {
   "cell_type": "code",
   "execution_count": 17,
   "metadata": {},
   "outputs": [
    {
     "data": {
      "text/plain": [
       "array([[27.8       ,  5.6       ],\n",
       "       [41.77777778,  5.55555556],\n",
       "       [27.42857143, 17.42857143],\n",
       "       [44.5       , 20.25      ]])"
      ]
     },
     "execution_count": 17,
     "metadata": {},
     "output_type": "execute_result"
    }
   ],
   "source": [
    "km.cluster_centers_ # These are the centroid values for the non-scaled data"
   ]
  },
  {
   "cell_type": "code",
   "execution_count": 18,
   "metadata": {},
   "outputs": [
    {
     "data": {
      "text/plain": [
       "array([[0.15909091, 0.19021739],\n",
       "       [0.56060606, 0.91304348],\n",
       "       [0.14285714, 0.60869565],\n",
       "       [0.5993266 , 0.24154589]])"
      ]
     },
     "execution_count": 18,
     "metadata": {},
     "output_type": "execute_result"
    }
   ],
   "source": [
    "km2.cluster_centers_ # These are the centroid values for the scaled data"
   ]
  },
  {
   "cell_type": "markdown",
   "metadata": {},
   "source": [
    "### Elbow Plot"
   ]
  },
  {
   "cell_type": "markdown",
   "metadata": {},
   "source": [
    "Did I choose the ideal number for K? The use of the elbow plot method can be useful when working with a large amount of data with many different variables. Trying to use a scatter plot to determine or estimate the appropriate K value to use will be futile. "
   ]
  },
  {
   "cell_type": "code",
   "execution_count": 19,
   "metadata": {},
   "outputs": [],
   "source": [
    "k_range = range(1, 15)\n",
    "sse = [] # sum of squared error\n",
    "for k in k_range:\n",
    "    km = KMeans(n_clusters=k)\n",
    "    km.fit(df[['Age', 'Clients']])\n",
    "    sse.append(km.inertia_) # Gives us the some of squared error"
   ]
  },
  {
   "cell_type": "code",
   "execution_count": 20,
   "metadata": {},
   "outputs": [
    {
     "data": {
      "text/plain": [
       "[3675.7666666666664,\n",
       " 2024.1176470588234,\n",
       " 1223.011111111111,\n",
       " 841.7916666666666,\n",
       " 627.0,\n",
       " 429.9722222222223,\n",
       " 342.65000000000003,\n",
       " 288.25,\n",
       " 219.23333333333335,\n",
       " 169.73333333333332,\n",
       " 136.75,\n",
       " 112.53333333333333,\n",
       " 84.5,\n",
       " 67.16666666666666]"
      ]
     },
     "execution_count": 20,
     "metadata": {},
     "output_type": "execute_result"
    }
   ],
   "source": [
    "sse"
   ]
  },
  {
   "cell_type": "markdown",
   "metadata": {},
   "source": [
    "As I can see the sum of squared error is initially really high and then drops substantially, especially toward the beginning."
   ]
  },
  {
   "cell_type": "code",
   "execution_count": 21,
   "metadata": {},
   "outputs": [
    {
     "data": {
      "image/png": "[encoded data removed]",
      "text/plain": [
       "<Figure size 432x288 with 1 Axes>"
      ]
     },
     "metadata": {
      "needs_background": "light"
     },
     "output_type": "display_data"
    }
   ],
   "source": [
    "plt.plot(k_range, sse)\n",
    "plt.xlabel('K')\n",
    "plt.ylabel('Sum of squared error')\n",
    "plt.title('Elbow Plot Non-scaled');"
   ]
  },
  {
   "cell_type": "markdown",
   "metadata": {},
   "source": [
    "From the above plot, there is no distinct sharp curve that can easily give me a good K value. However, I do see a light bend on the curve at both a K value of 3, K value of 4, and K value of 6. When choosing between these three values, it looks like there is little decrease in the SSE from a K value of 6. Knowing this beforehand, a K value of 6 may have been more appropriate. Since there is correct K value per say, it is a good idea to understand our domain in which we are working in and choose an appropriate K value based on the overall objective. Note, this is for the non-scaled data."
   ]
  },
  {
   "cell_type": "code",
   "execution_count": 22,
   "metadata": {},
   "outputs": [],
   "source": [
    "# Creating an elbow plot for the scaled data\n",
    "k_range = range(1, 15)\n",
    "sse2 = [] # sum of squared error\n",
    "for k in k_range:\n",
    "    km2 = KMeans(n_clusters=k)\n",
    "    km2.fit(df2[['Age', 'Clients']])\n",
    "    sse2.append(km2.inertia_)"
   ]
  },
  {
   "cell_type": "code",
   "execution_count": 23,
   "metadata": {},
   "outputs": [
    {
     "data": {
      "text/plain": [
       "[4.79100780387943,\n",
       " 2.5890447697459207,\n",
       " 1.5667435262583342,\n",
       " 0.9892731719577682,\n",
       " 0.7604615985852737,\n",
       " 0.5791986531159928,\n",
       " 0.4528151808898786,\n",
       " 0.3122305717425153,\n",
       " 0.2596737264377752,\n",
       " 0.2100296659671122,\n",
       " 0.16154962004764373,\n",
       " 0.13180235649732122,\n",
       " 0.11340043037929268,\n",
       " 0.09179467239271326]"
      ]
     },
     "execution_count": 23,
     "metadata": {},
     "output_type": "execute_result"
    }
   ],
   "source": [
    "sse2"
   ]
  },
  {
   "cell_type": "code",
   "execution_count": 24,
   "metadata": {},
   "outputs": [
    {
     "data": {
      "image/png": "[encoded data removed]",
      "text/plain": [
       "<Figure size 1080x360 with 2 Axes>"
      ]
     },
     "metadata": {
      "needs_background": "light"
     },
     "output_type": "display_data"
    }
   ],
   "source": [
    "# Plotting the non-scaled and scaled elbow plots side by side\n",
    "plt.figure(figsize = (15, 5))\n",
    "plt.subplot(1, 2, 1)\n",
    "plt.plot(k_range, sse2)\n",
    "plt.xlabel('K')\n",
    "plt.ylabel('Sum of squared error')\n",
    "plt.title('Elbow Plot Scaled');\n",
    "\n",
    "plt.subplot(1, 2, 2)\n",
    "plt.plot(k_range, sse)\n",
    "plt.xlabel('K')\n",
    "plt.ylabel('Sum of squared error')\n",
    "plt.title('Elbow Plot Non-scaled');"
   ]
  },
  {
   "cell_type": "markdown",
   "metadata": {},
   "source": [
    "When comparing the two plots, there is a slight bend at both a K value of 4 and another slight bend at a K value of 8. At the K value of 8, there is much less of a decrease in the SSE value. Whether a K value of 4 or 8 is chosen will depend on the objective when it comes to clustering groups based on certain features. "
   ]
  },
  {
   "cell_type": "markdown",
   "metadata": {},
   "source": [
    "## Part II - K-Means Clustering on Completely Randomized Data "
   ]
  },
  {
   "cell_type": "markdown",
   "metadata": {},
   "source": [
    "\n",
    "For the final objective I decided to make this a little more fun by making this into a larger dataset. Trying to type in over 2000 values to make this a more entertaining dataset would be all too time consuming. So with some help from using the following [link](https://www.generatedata.com/)\n",
    "and using choose function in Excel, I was more quickly able to create a fictional personal trainer dataset. It is important to note that these was completely randomly generated and that in a real world scenario, variables including age, personality type, education level and a host of other variables may contribute and even predict the success of a personal trainer."
   ]
  },
  {
   "cell_type": "code",
   "execution_count": 25,
   "metadata": {},
   "outputs": [],
   "source": [
    "# Upload the csv file containing mock personal trainer data into a Pandas DataFrame\n",
    "trainers = pd.read_csv(\"C:\\\\Users\\\\teamd\\\\Machine Learning Prep Course Udacity\\\\Mock Personal Trainer Data 1.csv\")"
   ]
  },
  {
   "cell_type": "code",
   "execution_count": 26,
   "metadata": {},
   "outputs": [
    {
     "data": {
      "text/html": [
       "<div>\n",
       "<style scoped>\n",
       "    .dataframe tbody tr th:only-of-type {\n",
       "        vertical-align: middle;\n",
       "    }\n",
       "\n",
       "    .dataframe tbody tr th {\n",
       "        vertical-align: top;\n",
       "    }\n",
       "\n",
       "    .dataframe thead th {\n",
       "        text-align: right;\n",
       "    }\n",
       "</style>\n",
       "<table border=\"1\" class=\"dataframe\">\n",
       "  <thead>\n",
       "    <tr style=\"text-align: right;\">\n",
       "      <th></th>\n",
       "      <th>Names</th>\n",
       "      <th>Age</th>\n",
       "      <th>Clients</th>\n",
       "      <th>Friends</th>\n",
       "      <th>Personality</th>\n",
       "      <th>Ranking</th>\n",
       "      <th>Education</th>\n",
       "      <th>Married</th>\n",
       "      <th>Years_Experience</th>\n",
       "      <th>Speech_Rate</th>\n",
       "      <th>Weight_KG</th>\n",
       "      <th>Height_CM</th>\n",
       "    </tr>\n",
       "  </thead>\n",
       "  <tbody>\n",
       "    <tr>\n",
       "      <th>0</th>\n",
       "      <td>Kirby</td>\n",
       "      <td>32</td>\n",
       "      <td>27</td>\n",
       "      <td>3</td>\n",
       "      <td>Extrovert</td>\n",
       "      <td>Master Trainer</td>\n",
       "      <td>High School</td>\n",
       "      <td>Y</td>\n",
       "      <td>14</td>\n",
       "      <td>109</td>\n",
       "      <td>98</td>\n",
       "      <td>188</td>\n",
       "    </tr>\n",
       "    <tr>\n",
       "      <th>1</th>\n",
       "      <td>Ursa</td>\n",
       "      <td>45</td>\n",
       "      <td>19</td>\n",
       "      <td>1</td>\n",
       "      <td>Introvert</td>\n",
       "      <td>PT3</td>\n",
       "      <td>Associate</td>\n",
       "      <td>N</td>\n",
       "      <td>9</td>\n",
       "      <td>131</td>\n",
       "      <td>72</td>\n",
       "      <td>192</td>\n",
       "    </tr>\n",
       "    <tr>\n",
       "      <th>2</th>\n",
       "      <td>Nerea</td>\n",
       "      <td>41</td>\n",
       "      <td>24</td>\n",
       "      <td>9</td>\n",
       "      <td>Extrovert</td>\n",
       "      <td>PT2</td>\n",
       "      <td>Associate</td>\n",
       "      <td>N</td>\n",
       "      <td>12</td>\n",
       "      <td>197</td>\n",
       "      <td>64</td>\n",
       "      <td>191</td>\n",
       "    </tr>\n",
       "    <tr>\n",
       "      <th>3</th>\n",
       "      <td>Tara</td>\n",
       "      <td>26</td>\n",
       "      <td>15</td>\n",
       "      <td>7</td>\n",
       "      <td>Introvert</td>\n",
       "      <td>PT3</td>\n",
       "      <td>Associate</td>\n",
       "      <td>N</td>\n",
       "      <td>4</td>\n",
       "      <td>169</td>\n",
       "      <td>115</td>\n",
       "      <td>160</td>\n",
       "    </tr>\n",
       "    <tr>\n",
       "      <th>4</th>\n",
       "      <td>Charles</td>\n",
       "      <td>44</td>\n",
       "      <td>23</td>\n",
       "      <td>2</td>\n",
       "      <td>Extrovert</td>\n",
       "      <td>PT1</td>\n",
       "      <td>Master</td>\n",
       "      <td>Y</td>\n",
       "      <td>9</td>\n",
       "      <td>180</td>\n",
       "      <td>57</td>\n",
       "      <td>210</td>\n",
       "    </tr>\n",
       "    <tr>\n",
       "      <th>5</th>\n",
       "      <td>Lev</td>\n",
       "      <td>50</td>\n",
       "      <td>21</td>\n",
       "      <td>4</td>\n",
       "      <td>Introvert</td>\n",
       "      <td>PT3</td>\n",
       "      <td>High School</td>\n",
       "      <td>N</td>\n",
       "      <td>15</td>\n",
       "      <td>143</td>\n",
       "      <td>108</td>\n",
       "      <td>208</td>\n",
       "    </tr>\n",
       "    <tr>\n",
       "      <th>6</th>\n",
       "      <td>Benjamin</td>\n",
       "      <td>33</td>\n",
       "      <td>29</td>\n",
       "      <td>3</td>\n",
       "      <td>Extrovert</td>\n",
       "      <td>Master Trainer</td>\n",
       "      <td>Bachelor</td>\n",
       "      <td>Y</td>\n",
       "      <td>15</td>\n",
       "      <td>118</td>\n",
       "      <td>117</td>\n",
       "      <td>197</td>\n",
       "    </tr>\n",
       "    <tr>\n",
       "      <th>7</th>\n",
       "      <td>Petra</td>\n",
       "      <td>58</td>\n",
       "      <td>21</td>\n",
       "      <td>8</td>\n",
       "      <td>Introvert</td>\n",
       "      <td>Master Trainer</td>\n",
       "      <td>Master</td>\n",
       "      <td>Y</td>\n",
       "      <td>9</td>\n",
       "      <td>129</td>\n",
       "      <td>54</td>\n",
       "      <td>186</td>\n",
       "    </tr>\n",
       "  </tbody>\n",
       "</table>\n",
       "</div>"
      ],
      "text/plain": [
       "      Names  Age  Clients  Friends Personality         Ranking    Education  \\\n",
       "0     Kirby   32       27        3   Extrovert  Master Trainer  High School   \n",
       "1      Ursa   45       19        1   Introvert             PT3    Associate   \n",
       "2     Nerea   41       24        9   Extrovert             PT2    Associate   \n",
       "3      Tara   26       15        7   Introvert             PT3    Associate   \n",
       "4   Charles   44       23        2   Extrovert             PT1       Master   \n",
       "5       Lev   50       21        4   Introvert             PT3  High School   \n",
       "6  Benjamin   33       29        3   Extrovert  Master Trainer     Bachelor   \n",
       "7     Petra   58       21        8   Introvert  Master Trainer       Master   \n",
       "\n",
       "  Married  Years_Experience  Speech_Rate  Weight_KG  Height_CM  \n",
       "0       Y                14          109         98        188  \n",
       "1       N                 9          131         72        192  \n",
       "2       N                12          197         64        191  \n",
       "3       N                 4          169        115        160  \n",
       "4       Y                 9          180         57        210  \n",
       "5       N                15          143        108        208  \n",
       "6       Y                15          118        117        197  \n",
       "7       Y                 9          129         54        186  "
      ]
     },
     "execution_count": 26,
     "metadata": {},
     "output_type": "execute_result"
    }
   ],
   "source": [
    "# Read the first 8 rows of the trainers dataframe\n",
    "trainers.head(8)"
   ]
  },
  {
   "cell_type": "code",
   "execution_count": 27,
   "metadata": {},
   "outputs": [
    {
     "name": "stdout",
     "output_type": "stream",
     "text": [
      "<class 'pandas.core.frame.DataFrame'>\n",
      "RangeIndex: 500 entries, 0 to 499\n",
      "Data columns (total 12 columns):\n",
      " #   Column            Non-Null Count  Dtype \n",
      "---  ------            --------------  ----- \n",
      " 0   Names             500 non-null    object\n",
      " 1   Age               500 non-null    int64 \n",
      " 2   Clients           500 non-null    int64 \n",
      " 3   Friends           500 non-null    int64 \n",
      " 4   Personality       500 non-null    object\n",
      " 5   Ranking           500 non-null    object\n",
      " 6   Education         500 non-null    object\n",
      " 7   Married           500 non-null    object\n",
      " 8   Years_Experience  500 non-null    int64 \n",
      " 9   Speech_Rate       500 non-null    int64 \n",
      " 10  Weight_KG         500 non-null    int64 \n",
      " 11  Height_CM         500 non-null    int64 \n",
      "dtypes: int64(7), object(5)\n",
      "memory usage: 47.0+ KB\n"
     ]
    }
   ],
   "source": [
    "trainers.info()"
   ]
  },
  {
   "cell_type": "code",
   "execution_count": 28,
   "metadata": {},
   "outputs": [
    {
     "data": {
      "text/html": [
       "<div>\n",
       "<style scoped>\n",
       "    .dataframe tbody tr th:only-of-type {\n",
       "        vertical-align: middle;\n",
       "    }\n",
       "\n",
       "    .dataframe tbody tr th {\n",
       "        vertical-align: top;\n",
       "    }\n",
       "\n",
       "    .dataframe thead th {\n",
       "        text-align: right;\n",
       "    }\n",
       "</style>\n",
       "<table border=\"1\" class=\"dataframe\">\n",
       "  <thead>\n",
       "    <tr style=\"text-align: right;\">\n",
       "      <th></th>\n",
       "      <th>Age</th>\n",
       "      <th>Clients</th>\n",
       "      <th>Friends</th>\n",
       "      <th>Years_Experience</th>\n",
       "      <th>Speech_Rate</th>\n",
       "      <th>Weight_KG</th>\n",
       "      <th>Height_CM</th>\n",
       "    </tr>\n",
       "  </thead>\n",
       "  <tbody>\n",
       "    <tr>\n",
       "      <th>count</th>\n",
       "      <td>500.000000</td>\n",
       "      <td>500.000000</td>\n",
       "      <td>500.00000</td>\n",
       "      <td>500.000000</td>\n",
       "      <td>500.000000</td>\n",
       "      <td>500.000000</td>\n",
       "      <td>500.000000</td>\n",
       "    </tr>\n",
       "    <tr>\n",
       "      <th>mean</th>\n",
       "      <td>41.596000</td>\n",
       "      <td>14.732000</td>\n",
       "      <td>4.96200</td>\n",
       "      <td>13.062000</td>\n",
       "      <td>150.806000</td>\n",
       "      <td>84.676000</td>\n",
       "      <td>180.250000</td>\n",
       "    </tr>\n",
       "    <tr>\n",
       "      <th>std</th>\n",
       "      <td>11.000673</td>\n",
       "      <td>9.150718</td>\n",
       "      <td>3.18006</td>\n",
       "      <td>7.420261</td>\n",
       "      <td>28.554563</td>\n",
       "      <td>20.674765</td>\n",
       "      <td>17.188671</td>\n",
       "    </tr>\n",
       "    <tr>\n",
       "      <th>min</th>\n",
       "      <td>22.000000</td>\n",
       "      <td>0.000000</td>\n",
       "      <td>0.00000</td>\n",
       "      <td>0.000000</td>\n",
       "      <td>100.000000</td>\n",
       "      <td>50.000000</td>\n",
       "      <td>150.000000</td>\n",
       "    </tr>\n",
       "    <tr>\n",
       "      <th>25%</th>\n",
       "      <td>32.000000</td>\n",
       "      <td>6.000000</td>\n",
       "      <td>2.00000</td>\n",
       "      <td>7.000000</td>\n",
       "      <td>128.000000</td>\n",
       "      <td>67.000000</td>\n",
       "      <td>166.000000</td>\n",
       "    </tr>\n",
       "    <tr>\n",
       "      <th>50%</th>\n",
       "      <td>41.000000</td>\n",
       "      <td>15.000000</td>\n",
       "      <td>5.00000</td>\n",
       "      <td>13.000000</td>\n",
       "      <td>150.000000</td>\n",
       "      <td>84.000000</td>\n",
       "      <td>180.000000</td>\n",
       "    </tr>\n",
       "    <tr>\n",
       "      <th>75%</th>\n",
       "      <td>51.000000</td>\n",
       "      <td>23.000000</td>\n",
       "      <td>8.00000</td>\n",
       "      <td>19.000000</td>\n",
       "      <td>176.250000</td>\n",
       "      <td>102.250000</td>\n",
       "      <td>194.000000</td>\n",
       "    </tr>\n",
       "    <tr>\n",
       "      <th>max</th>\n",
       "      <td>60.000000</td>\n",
       "      <td>30.000000</td>\n",
       "      <td>10.00000</td>\n",
       "      <td>25.000000</td>\n",
       "      <td>200.000000</td>\n",
       "      <td>120.000000</td>\n",
       "      <td>210.000000</td>\n",
       "    </tr>\n",
       "  </tbody>\n",
       "</table>\n",
       "</div>"
      ],
      "text/plain": [
       "              Age     Clients    Friends  Years_Experience  Speech_Rate  \\\n",
       "count  500.000000  500.000000  500.00000        500.000000   500.000000   \n",
       "mean    41.596000   14.732000    4.96200         13.062000   150.806000   \n",
       "std     11.000673    9.150718    3.18006          7.420261    28.554563   \n",
       "min     22.000000    0.000000    0.00000          0.000000   100.000000   \n",
       "25%     32.000000    6.000000    2.00000          7.000000   128.000000   \n",
       "50%     41.000000   15.000000    5.00000         13.000000   150.000000   \n",
       "75%     51.000000   23.000000    8.00000         19.000000   176.250000   \n",
       "max     60.000000   30.000000   10.00000         25.000000   200.000000   \n",
       "\n",
       "        Weight_KG   Height_CM  \n",
       "count  500.000000  500.000000  \n",
       "mean    84.676000  180.250000  \n",
       "std     20.674765   17.188671  \n",
       "min     50.000000  150.000000  \n",
       "25%     67.000000  166.000000  \n",
       "50%     84.000000  180.000000  \n",
       "75%    102.250000  194.000000  \n",
       "max    120.000000  210.000000  "
      ]
     },
     "execution_count": 28,
     "metadata": {},
     "output_type": "execute_result"
    }
   ],
   "source": [
    "# Viewing some basics statistics of the trainers dataset\n",
    "trainers.describe()"
   ]
  },
  {
   "cell_type": "markdown",
   "metadata": {},
   "source": [
    "### Exploratory data visualization/analysis\n"
   ]
  },
  {
   "cell_type": "code",
   "execution_count": 29,
   "metadata": {},
   "outputs": [
    {
     "data": {
      "image/png": "[encoded data removed]",
      "text/plain": [
       "<Figure size 802.125x360 with 1 Axes>"
      ]
     },
     "metadata": {
      "needs_background": "light"
     },
     "output_type": "display_data"
    }
   ],
   "source": [
    "# Plot a scatter using Seaborn's linear plot between the Age versus Clients columns based on the Personality column\n",
    "sns.lmplot(x = 'Age', y = 'Clients', data = trainers, hue = 'Personality', fit_reg = False, height =5, aspect = 2);"
   ]
  },
  {
   "cell_type": "markdown",
   "metadata": {},
   "source": [
    "Talk about randomness! This may be quite challenging for the K Means algorithm to be able to group this data based on certain features. Let us see how it turns out."
   ]
  },
  {
   "cell_type": "code",
   "execution_count": 30,
   "metadata": {},
   "outputs": [
    {
     "data": {
      "text/plain": [
       "<seaborn.axisgrid.FacetGrid at 0x1d0034a7588>"
      ]
     },
     "execution_count": 30,
     "metadata": {},
     "output_type": "execute_result"
    },
    {
     "data": {
      "image/png": "[encoded data removed]",
      "text/plain": [
       "<Figure size 815.25x360 with 1 Axes>"
      ]
     },
     "metadata": {
      "needs_background": "light"
     },
     "output_type": "display_data"
    }
   ],
   "source": [
    "# Plotting a scatter plot on clients versus the rate of speech based on education\n",
    "sns.lmplot(x = 'Clients', y = 'Speech_Rate', data = trainers, hue = 'Education', fit_reg = False, height =5, aspect = 2)"
   ]
  },
  {
   "cell_type": "markdown",
   "metadata": {},
   "source": [
    "Once again, no distinct patterns to observe here. "
   ]
  },
  {
   "cell_type": "code",
   "execution_count": 31,
   "metadata": {},
   "outputs": [
    {
     "data": {
      "image/png": "[encoded data removed]",
      "text/plain": [
       "<Figure size 1296x432 with 1 Axes>"
      ]
     },
     "metadata": {
      "needs_background": "light"
     },
     "output_type": "display_data"
    }
   ],
   "source": [
    "# Creating a stacked historgram that displays the number of clients based on personality type\n",
    "g = sns.FacetGrid(trainers, hue = 'Personality', palette = 'coolwarm', height = 6, aspect = 3)\n",
    "g = g.map(plt.hist, 'Clients', bins = 30, alpha = 0.7)"
   ]
  },
  {
   "cell_type": "code",
   "execution_count": 32,
   "metadata": {},
   "outputs": [
    {
     "data": {
      "image/png": "[encoded data removed]",
      "text/plain": [
       "<Figure size 1296x432 with 1 Axes>"
      ]
     },
     "metadata": {
      "needs_background": "light"
     },
     "output_type": "display_data"
    }
   ],
   "source": [
    "# Creating a stacked histogram that displayes the rate of speech based on personlaity type\n",
    "# Creating a stacked historgram that displays the number of clients based on personality type\n",
    "g = sns.FacetGrid(trainers, hue = 'Personality', height = 6, aspect = 3)\n",
    "g = g.map(plt.hist, 'Speech_Rate', bins = 30, alpha = 0.7)"
   ]
  },
  {
   "cell_type": "markdown",
   "metadata": {},
   "source": [
    "Scatter plots and histograms are not really doing a great job of visualizing this random data. I will move on to using violin and box plots to better visualize this excessively random data!"
   ]
  },
  {
   "cell_type": "code",
   "execution_count": 33,
   "metadata": {},
   "outputs": [
    {
     "data": {
      "image/png": "[encoded data removed]",
      "text/plain": [
       "<Figure size 720x360 with 1 Axes>"
      ]
     },
     "metadata": {
      "needs_background": "light"
     },
     "output_type": "display_data"
    }
   ],
   "source": [
    "# Creating violin plots on the number of clients trainers have based off of personality type\n",
    "plt.figure(figsize = (10, 5));\n",
    "sns.violinplot(data = trainers, x = 'Personality', y = 'Clients');"
   ]
  },
  {
   "cell_type": "code",
   "execution_count": 34,
   "metadata": {},
   "outputs": [
    {
     "data": {
      "image/png": "[encoded data removed]",
      "text/plain": [
       "<Figure size 720x360 with 1 Axes>"
      ]
     },
     "metadata": {
      "needs_background": "light"
     },
     "output_type": "display_data"
    }
   ],
   "source": [
    "# Creating violin plots on the rate of speech of trainers based off of personality type\n",
    "plt.figure(figsize = (10, 5))\n",
    "sns.violinplot(data = trainers, x = 'Personality', y = 'Speech_Rate');"
   ]
  },
  {
   "cell_type": "code",
   "execution_count": 35,
   "metadata": {},
   "outputs": [
    {
     "data": {
      "text/plain": [
       "<matplotlib.axes._subplots.AxesSubplot at 0x1d00375af48>"
      ]
     },
     "execution_count": 35,
     "metadata": {},
     "output_type": "execute_result"
    },
    {
     "data": {
      "image/png": "[encoded data removed]",
      "text/plain": [
       "<Figure size 936x360 with 1 Axes>"
      ]
     },
     "metadata": {
      "needs_background": "light"
     },
     "output_type": "display_data"
    }
   ],
   "source": [
    "# Creating violin plots on the rate of speech based off of education level\n",
    "plt.figure(figsize = (13, 5))\n",
    "sns.violinplot(data = trainers, x = 'Education', y = 'Speech_Rate')"
   ]
  },
  {
   "cell_type": "code",
   "execution_count": 36,
   "metadata": {},
   "outputs": [
    {
     "data": {
      "image/png": "[encoded data removed]",
      "text/plain": [
       "<Figure size 936x360 with 1 Axes>"
      ]
     },
     "metadata": {
      "needs_background": "light"
     },
     "output_type": "display_data"
    }
   ],
   "source": [
    "# Creating a boxplot on a trainers rate of speech based  off their current ranking at work\n",
    "plt.figure(figsize = (13, 5))\n",
    "sns.boxplot(data = trainers, x = 'Ranking', y = 'Speech_Rate');"
   ]
  },
  {
   "cell_type": "markdown",
   "metadata": {},
   "source": [
    "For once, it looks like within all this sheer randomness there does seem to be some differences in the rate of speech when comparing this variable to a trainer's ranking. It does look like that PT1 and PT2 have a wider interquartile range(IQR) when compared to PT3s and Master Trainers."
   ]
  },
  {
   "cell_type": "code",
   "execution_count": 37,
   "metadata": {},
   "outputs": [
    {
     "data": {
      "text/plain": [
       "<matplotlib.axes._subplots.AxesSubplot at 0x1d004713bc8>"
      ]
     },
     "execution_count": 37,
     "metadata": {},
     "output_type": "execute_result"
    },
    {
     "data": {
      "image/png": "[encoded data removed]",
      "text/plain": [
       "<Figure size 936x360 with 1 Axes>"
      ]
     },
     "metadata": {
      "needs_background": "light"
     },
     "output_type": "display_data"
    }
   ],
   "source": [
    "# Creating a boxplot on a trainers number of close friends based off of education level\n",
    "plt.figure(figsize = (13, 5))\n",
    "sns.boxplot(data = trainers, x = 'Education', y = 'Friends')"
   ]
  },
  {
   "cell_type": "markdown",
   "metadata": {},
   "source": [
    "Though this may seem trivial pointing out findings off of a mock dataset, it does provide for good practice and then being able to apply these skills to a real dataset. From the plot above, it looks like the trainers who have an education level of a bachelor's degree have the widest IQR of number of close friends. The highest mean of close friends can be seen in the high school category, with those in the master's degree category having the lowest mean. One would expect that with completely randomly generated data that IQRs and means would be identical, but that is not the case with this dataset."
   ]
  },
  {
   "cell_type": "markdown",
   "metadata": {},
   "source": [
    "## K Means Clustering\n"
   ]
  },
  {
   "cell_type": "markdown",
   "metadata": {},
   "source": [
    "It is now time to create some clustering labels! Since I am focusing on a trainer’s personality type, I will use a K Means model of two clusters. The decision to use two clusters is there are two different types of personalities in this dataset: extrovert and introvert."
   ]
  },
  {
   "cell_type": "code",
   "execution_count": 38,
   "metadata": {},
   "outputs": [
    {
     "data": {
      "text/html": [
       "<div>\n",
       "<style scoped>\n",
       "    .dataframe tbody tr th:only-of-type {\n",
       "        vertical-align: middle;\n",
       "    }\n",
       "\n",
       "    .dataframe tbody tr th {\n",
       "        vertical-align: top;\n",
       "    }\n",
       "\n",
       "    .dataframe thead th {\n",
       "        text-align: right;\n",
       "    }\n",
       "</style>\n",
       "<table border=\"1\" class=\"dataframe\">\n",
       "  <thead>\n",
       "    <tr style=\"text-align: right;\">\n",
       "      <th></th>\n",
       "      <th>Names</th>\n",
       "      <th>Age</th>\n",
       "      <th>Clients</th>\n",
       "      <th>Friends</th>\n",
       "      <th>Personality</th>\n",
       "      <th>Ranking</th>\n",
       "      <th>Education</th>\n",
       "      <th>Married</th>\n",
       "      <th>Years_Experience</th>\n",
       "      <th>Speech_Rate</th>\n",
       "      <th>Weight_KG</th>\n",
       "      <th>Height_CM</th>\n",
       "    </tr>\n",
       "  </thead>\n",
       "  <tbody>\n",
       "    <tr>\n",
       "      <th>0</th>\n",
       "      <td>Kirby</td>\n",
       "      <td>32</td>\n",
       "      <td>27</td>\n",
       "      <td>3</td>\n",
       "      <td>Extrovert</td>\n",
       "      <td>Master Trainer</td>\n",
       "      <td>High School</td>\n",
       "      <td>Y</td>\n",
       "      <td>14</td>\n",
       "      <td>109</td>\n",
       "      <td>98</td>\n",
       "      <td>188</td>\n",
       "    </tr>\n",
       "    <tr>\n",
       "      <th>1</th>\n",
       "      <td>Ursa</td>\n",
       "      <td>45</td>\n",
       "      <td>19</td>\n",
       "      <td>1</td>\n",
       "      <td>Introvert</td>\n",
       "      <td>PT3</td>\n",
       "      <td>Associate</td>\n",
       "      <td>N</td>\n",
       "      <td>9</td>\n",
       "      <td>131</td>\n",
       "      <td>72</td>\n",
       "      <td>192</td>\n",
       "    </tr>\n",
       "    <tr>\n",
       "      <th>2</th>\n",
       "      <td>Nerea</td>\n",
       "      <td>41</td>\n",
       "      <td>24</td>\n",
       "      <td>9</td>\n",
       "      <td>Extrovert</td>\n",
       "      <td>PT2</td>\n",
       "      <td>Associate</td>\n",
       "      <td>N</td>\n",
       "      <td>12</td>\n",
       "      <td>197</td>\n",
       "      <td>64</td>\n",
       "      <td>191</td>\n",
       "    </tr>\n",
       "    <tr>\n",
       "      <th>3</th>\n",
       "      <td>Tara</td>\n",
       "      <td>26</td>\n",
       "      <td>15</td>\n",
       "      <td>7</td>\n",
       "      <td>Introvert</td>\n",
       "      <td>PT3</td>\n",
       "      <td>Associate</td>\n",
       "      <td>N</td>\n",
       "      <td>4</td>\n",
       "      <td>169</td>\n",
       "      <td>115</td>\n",
       "      <td>160</td>\n",
       "    </tr>\n",
       "    <tr>\n",
       "      <th>4</th>\n",
       "      <td>Charles</td>\n",
       "      <td>44</td>\n",
       "      <td>23</td>\n",
       "      <td>2</td>\n",
       "      <td>Extrovert</td>\n",
       "      <td>PT1</td>\n",
       "      <td>Master</td>\n",
       "      <td>Y</td>\n",
       "      <td>9</td>\n",
       "      <td>180</td>\n",
       "      <td>57</td>\n",
       "      <td>210</td>\n",
       "    </tr>\n",
       "  </tbody>\n",
       "</table>\n",
       "</div>"
      ],
      "text/plain": [
       "     Names  Age  Clients  Friends Personality         Ranking    Education  \\\n",
       "0    Kirby   32       27        3   Extrovert  Master Trainer  High School   \n",
       "1     Ursa   45       19        1   Introvert             PT3    Associate   \n",
       "2    Nerea   41       24        9   Extrovert             PT2    Associate   \n",
       "3     Tara   26       15        7   Introvert             PT3    Associate   \n",
       "4  Charles   44       23        2   Extrovert             PT1       Master   \n",
       "\n",
       "  Married  Years_Experience  Speech_Rate  Weight_KG  Height_CM  \n",
       "0       Y                14          109         98        188  \n",
       "1       N                 9          131         72        192  \n",
       "2       N                12          197         64        191  \n",
       "3       N                 4          169        115        160  \n",
       "4       Y                 9          180         57        210  "
      ]
     },
     "execution_count": 38,
     "metadata": {},
     "output_type": "execute_result"
    }
   ],
   "source": [
    "# Getting one more look at the dataframe\n",
    "trainers.head()"
   ]
  },
  {
   "cell_type": "code",
   "execution_count": 39,
   "metadata": {},
   "outputs": [],
   "source": [
    "# Creating a another dataframe that only selects the 'Personality' column and all other quantitative columns\n",
    "trainers2 = trainers[['Personality', 'Age', 'Clients', 'Friends', 'Years_Experience', 'Speech_Rate', 'Weight_KG', \\\n",
    "                     'Height_CM']]"
   ]
  },
  {
   "cell_type": "code",
   "execution_count": 40,
   "metadata": {},
   "outputs": [
    {
     "data": {
      "text/html": [
       "<div>\n",
       "<style scoped>\n",
       "    .dataframe tbody tr th:only-of-type {\n",
       "        vertical-align: middle;\n",
       "    }\n",
       "\n",
       "    .dataframe tbody tr th {\n",
       "        vertical-align: top;\n",
       "    }\n",
       "\n",
       "    .dataframe thead th {\n",
       "        text-align: right;\n",
       "    }\n",
       "</style>\n",
       "<table border=\"1\" class=\"dataframe\">\n",
       "  <thead>\n",
       "    <tr style=\"text-align: right;\">\n",
       "      <th></th>\n",
       "      <th>Personality</th>\n",
       "      <th>Age</th>\n",
       "      <th>Clients</th>\n",
       "      <th>Friends</th>\n",
       "      <th>Years_Experience</th>\n",
       "      <th>Speech_Rate</th>\n",
       "      <th>Weight_KG</th>\n",
       "      <th>Height_CM</th>\n",
       "    </tr>\n",
       "  </thead>\n",
       "  <tbody>\n",
       "    <tr>\n",
       "      <th>0</th>\n",
       "      <td>Extrovert</td>\n",
       "      <td>32</td>\n",
       "      <td>27</td>\n",
       "      <td>3</td>\n",
       "      <td>14</td>\n",
       "      <td>109</td>\n",
       "      <td>98</td>\n",
       "      <td>188</td>\n",
       "    </tr>\n",
       "    <tr>\n",
       "      <th>1</th>\n",
       "      <td>Introvert</td>\n",
       "      <td>45</td>\n",
       "      <td>19</td>\n",
       "      <td>1</td>\n",
       "      <td>9</td>\n",
       "      <td>131</td>\n",
       "      <td>72</td>\n",
       "      <td>192</td>\n",
       "    </tr>\n",
       "    <tr>\n",
       "      <th>2</th>\n",
       "      <td>Extrovert</td>\n",
       "      <td>41</td>\n",
       "      <td>24</td>\n",
       "      <td>9</td>\n",
       "      <td>12</td>\n",
       "      <td>197</td>\n",
       "      <td>64</td>\n",
       "      <td>191</td>\n",
       "    </tr>\n",
       "    <tr>\n",
       "      <th>3</th>\n",
       "      <td>Introvert</td>\n",
       "      <td>26</td>\n",
       "      <td>15</td>\n",
       "      <td>7</td>\n",
       "      <td>4</td>\n",
       "      <td>169</td>\n",
       "      <td>115</td>\n",
       "      <td>160</td>\n",
       "    </tr>\n",
       "    <tr>\n",
       "      <th>4</th>\n",
       "      <td>Extrovert</td>\n",
       "      <td>44</td>\n",
       "      <td>23</td>\n",
       "      <td>2</td>\n",
       "      <td>9</td>\n",
       "      <td>180</td>\n",
       "      <td>57</td>\n",
       "      <td>210</td>\n",
       "    </tr>\n",
       "    <tr>\n",
       "      <th>5</th>\n",
       "      <td>Introvert</td>\n",
       "      <td>50</td>\n",
       "      <td>21</td>\n",
       "      <td>4</td>\n",
       "      <td>15</td>\n",
       "      <td>143</td>\n",
       "      <td>108</td>\n",
       "      <td>208</td>\n",
       "    </tr>\n",
       "    <tr>\n",
       "      <th>6</th>\n",
       "      <td>Extrovert</td>\n",
       "      <td>33</td>\n",
       "      <td>29</td>\n",
       "      <td>3</td>\n",
       "      <td>15</td>\n",
       "      <td>118</td>\n",
       "      <td>117</td>\n",
       "      <td>197</td>\n",
       "    </tr>\n",
       "    <tr>\n",
       "      <th>7</th>\n",
       "      <td>Introvert</td>\n",
       "      <td>58</td>\n",
       "      <td>21</td>\n",
       "      <td>8</td>\n",
       "      <td>9</td>\n",
       "      <td>129</td>\n",
       "      <td>54</td>\n",
       "      <td>186</td>\n",
       "    </tr>\n",
       "    <tr>\n",
       "      <th>8</th>\n",
       "      <td>Introvert</td>\n",
       "      <td>59</td>\n",
       "      <td>25</td>\n",
       "      <td>9</td>\n",
       "      <td>15</td>\n",
       "      <td>190</td>\n",
       "      <td>87</td>\n",
       "      <td>157</td>\n",
       "    </tr>\n",
       "    <tr>\n",
       "      <th>9</th>\n",
       "      <td>Introvert</td>\n",
       "      <td>59</td>\n",
       "      <td>8</td>\n",
       "      <td>7</td>\n",
       "      <td>14</td>\n",
       "      <td>180</td>\n",
       "      <td>71</td>\n",
       "      <td>167</td>\n",
       "    </tr>\n",
       "  </tbody>\n",
       "</table>\n",
       "</div>"
      ],
      "text/plain": [
       "  Personality  Age  Clients  Friends  Years_Experience  Speech_Rate  \\\n",
       "0   Extrovert   32       27        3                14          109   \n",
       "1   Introvert   45       19        1                 9          131   \n",
       "2   Extrovert   41       24        9                12          197   \n",
       "3   Introvert   26       15        7                 4          169   \n",
       "4   Extrovert   44       23        2                 9          180   \n",
       "5   Introvert   50       21        4                15          143   \n",
       "6   Extrovert   33       29        3                15          118   \n",
       "7   Introvert   58       21        8                 9          129   \n",
       "8   Introvert   59       25        9                15          190   \n",
       "9   Introvert   59        8        7                14          180   \n",
       "\n",
       "   Weight_KG  Height_CM  \n",
       "0         98        188  \n",
       "1         72        192  \n",
       "2         64        191  \n",
       "3        115        160  \n",
       "4         57        210  \n",
       "5        108        208  \n",
       "6        117        197  \n",
       "7         54        186  \n",
       "8         87        157  \n",
       "9         71        167  "
      ]
     },
     "execution_count": 40,
     "metadata": {},
     "output_type": "execute_result"
    }
   ],
   "source": [
    "# Inspecting the new dataframe\n",
    "trainers2.head(10)"
   ]
  },
  {
   "cell_type": "code",
   "execution_count": 41,
   "metadata": {},
   "outputs": [],
   "source": [
    "pt = trainers2.copy() # Creating a copy of the selected DataFrame to avoid getting a warning"
   ]
  },
  {
   "cell_type": "code",
   "execution_count": 42,
   "metadata": {},
   "outputs": [],
   "source": [
    "# Creating the K Means model with 2 clusters\n",
    "km3 = KMeans(n_clusters=2)"
   ]
  },
  {
   "cell_type": "code",
   "execution_count": 43,
   "metadata": {},
   "outputs": [
    {
     "data": {
      "text/plain": [
       "KMeans(algorithm='auto', copy_x=True, init='k-means++', max_iter=300,\n",
       "       n_clusters=2, n_init=10, n_jobs=None, precompute_distances='auto',\n",
       "       random_state=None, tol=0.0001, verbose=0)"
      ]
     },
     "execution_count": 43,
     "metadata": {},
     "output_type": "execute_result"
    }
   ],
   "source": [
    "# Fitting the data to all columns except the 'Personality' column\n",
    "km3.fit(pt.drop('Personality', axis = 1))"
   ]
  },
  {
   "cell_type": "code",
   "execution_count": 44,
   "metadata": {},
   "outputs": [
    {
     "name": "stdout",
     "output_type": "stream",
     "text": [
      "[[ 41.58754864  15.40856031   5.03501946  12.52918288 126.50583658\n",
      "   84.21400778 180.49027237]\n",
      " [ 41.60493827  14.01646091   4.88477366  13.6255144  176.50617284\n",
      "   85.16460905 179.99588477]]\n",
      "\n",
      "(2, 7)\n"
     ]
    }
   ],
   "source": [
    "# Determining the cluster center vectors\n",
    "print(km3.cluster_centers_)\n",
    "print()\n",
    "\n",
    "# Diminensions will match the number of columns in dataframe that does not include Personality\n",
    "print(km3.cluster_centers_.shape)"
   ]
  },
  {
   "cell_type": "markdown",
   "metadata": {},
   "source": [
    "### Evaluating the clusters\n"
   ]
  },
  {
   "cell_type": "markdown",
   "metadata": {},
   "source": [
    "Creating a new column called 'Cluster' which will be labeled as 1 if the trainer is extroverted and 0 if introverted."
   ]
  },
  {
   "cell_type": "code",
   "execution_count": 45,
   "metadata": {},
   "outputs": [],
   "source": [
    "def converter(personality):\n",
    "    if personality == 'Extrovert':\n",
    "        return 1\n",
    "    else:\n",
    "        return 0\n",
    "# This function converts the Personality column from extrovert and introvert to 1s and 0s"
   ]
  },
  {
   "cell_type": "code",
   "execution_count": 46,
   "metadata": {},
   "outputs": [],
   "source": [
    "pt['Cluster'] = pt['Personality'].apply(converter)"
   ]
  },
  {
   "cell_type": "code",
   "execution_count": 47,
   "metadata": {},
   "outputs": [
    {
     "data": {
      "text/html": [
       "<div>\n",
       "<style scoped>\n",
       "    .dataframe tbody tr th:only-of-type {\n",
       "        vertical-align: middle;\n",
       "    }\n",
       "\n",
       "    .dataframe tbody tr th {\n",
       "        vertical-align: top;\n",
       "    }\n",
       "\n",
       "    .dataframe thead th {\n",
       "        text-align: right;\n",
       "    }\n",
       "</style>\n",
       "<table border=\"1\" class=\"dataframe\">\n",
       "  <thead>\n",
       "    <tr style=\"text-align: right;\">\n",
       "      <th></th>\n",
       "      <th>Personality</th>\n",
       "      <th>Age</th>\n",
       "      <th>Clients</th>\n",
       "      <th>Friends</th>\n",
       "      <th>Years_Experience</th>\n",
       "      <th>Speech_Rate</th>\n",
       "      <th>Weight_KG</th>\n",
       "      <th>Height_CM</th>\n",
       "      <th>Cluster</th>\n",
       "    </tr>\n",
       "  </thead>\n",
       "  <tbody>\n",
       "    <tr>\n",
       "      <th>0</th>\n",
       "      <td>Extrovert</td>\n",
       "      <td>32</td>\n",
       "      <td>27</td>\n",
       "      <td>3</td>\n",
       "      <td>14</td>\n",
       "      <td>109</td>\n",
       "      <td>98</td>\n",
       "      <td>188</td>\n",
       "      <td>1</td>\n",
       "    </tr>\n",
       "    <tr>\n",
       "      <th>1</th>\n",
       "      <td>Introvert</td>\n",
       "      <td>45</td>\n",
       "      <td>19</td>\n",
       "      <td>1</td>\n",
       "      <td>9</td>\n",
       "      <td>131</td>\n",
       "      <td>72</td>\n",
       "      <td>192</td>\n",
       "      <td>0</td>\n",
       "    </tr>\n",
       "    <tr>\n",
       "      <th>2</th>\n",
       "      <td>Extrovert</td>\n",
       "      <td>41</td>\n",
       "      <td>24</td>\n",
       "      <td>9</td>\n",
       "      <td>12</td>\n",
       "      <td>197</td>\n",
       "      <td>64</td>\n",
       "      <td>191</td>\n",
       "      <td>1</td>\n",
       "    </tr>\n",
       "    <tr>\n",
       "      <th>3</th>\n",
       "      <td>Introvert</td>\n",
       "      <td>26</td>\n",
       "      <td>15</td>\n",
       "      <td>7</td>\n",
       "      <td>4</td>\n",
       "      <td>169</td>\n",
       "      <td>115</td>\n",
       "      <td>160</td>\n",
       "      <td>0</td>\n",
       "    </tr>\n",
       "    <tr>\n",
       "      <th>4</th>\n",
       "      <td>Extrovert</td>\n",
       "      <td>44</td>\n",
       "      <td>23</td>\n",
       "      <td>2</td>\n",
       "      <td>9</td>\n",
       "      <td>180</td>\n",
       "      <td>57</td>\n",
       "      <td>210</td>\n",
       "      <td>1</td>\n",
       "    </tr>\n",
       "    <tr>\n",
       "      <th>5</th>\n",
       "      <td>Introvert</td>\n",
       "      <td>50</td>\n",
       "      <td>21</td>\n",
       "      <td>4</td>\n",
       "      <td>15</td>\n",
       "      <td>143</td>\n",
       "      <td>108</td>\n",
       "      <td>208</td>\n",
       "      <td>0</td>\n",
       "    </tr>\n",
       "    <tr>\n",
       "      <th>6</th>\n",
       "      <td>Extrovert</td>\n",
       "      <td>33</td>\n",
       "      <td>29</td>\n",
       "      <td>3</td>\n",
       "      <td>15</td>\n",
       "      <td>118</td>\n",
       "      <td>117</td>\n",
       "      <td>197</td>\n",
       "      <td>1</td>\n",
       "    </tr>\n",
       "    <tr>\n",
       "      <th>7</th>\n",
       "      <td>Introvert</td>\n",
       "      <td>58</td>\n",
       "      <td>21</td>\n",
       "      <td>8</td>\n",
       "      <td>9</td>\n",
       "      <td>129</td>\n",
       "      <td>54</td>\n",
       "      <td>186</td>\n",
       "      <td>0</td>\n",
       "    </tr>\n",
       "    <tr>\n",
       "      <th>8</th>\n",
       "      <td>Introvert</td>\n",
       "      <td>59</td>\n",
       "      <td>25</td>\n",
       "      <td>9</td>\n",
       "      <td>15</td>\n",
       "      <td>190</td>\n",
       "      <td>87</td>\n",
       "      <td>157</td>\n",
       "      <td>0</td>\n",
       "    </tr>\n",
       "    <tr>\n",
       "      <th>9</th>\n",
       "      <td>Introvert</td>\n",
       "      <td>59</td>\n",
       "      <td>8</td>\n",
       "      <td>7</td>\n",
       "      <td>14</td>\n",
       "      <td>180</td>\n",
       "      <td>71</td>\n",
       "      <td>167</td>\n",
       "      <td>0</td>\n",
       "    </tr>\n",
       "  </tbody>\n",
       "</table>\n",
       "</div>"
      ],
      "text/plain": [
       "  Personality  Age  Clients  Friends  Years_Experience  Speech_Rate  \\\n",
       "0   Extrovert   32       27        3                14          109   \n",
       "1   Introvert   45       19        1                 9          131   \n",
       "2   Extrovert   41       24        9                12          197   \n",
       "3   Introvert   26       15        7                 4          169   \n",
       "4   Extrovert   44       23        2                 9          180   \n",
       "5   Introvert   50       21        4                15          143   \n",
       "6   Extrovert   33       29        3                15          118   \n",
       "7   Introvert   58       21        8                 9          129   \n",
       "8   Introvert   59       25        9                15          190   \n",
       "9   Introvert   59        8        7                14          180   \n",
       "\n",
       "   Weight_KG  Height_CM  Cluster  \n",
       "0         98        188        1  \n",
       "1         72        192        0  \n",
       "2         64        191        1  \n",
       "3        115        160        0  \n",
       "4         57        210        1  \n",
       "5        108        208        0  \n",
       "6        117        197        1  \n",
       "7         54        186        0  \n",
       "8         87        157        0  \n",
       "9         71        167        0  "
      ]
     },
     "execution_count": 47,
     "metadata": {},
     "output_type": "execute_result"
    }
   ],
   "source": [
    "pt.head(10)"
   ]
  },
  {
   "cell_type": "markdown",
   "metadata": {},
   "source": [
    "How well did K Means clustering work on this completely randomized dataset? A confusion matrix and classification report will be created to determine the quality of performance."
   ]
  },
  {
   "cell_type": "code",
   "execution_count": 48,
   "metadata": {},
   "outputs": [],
   "source": [
    "from sklearn.metrics import confusion_matrix, classification_report"
   ]
  },
  {
   "cell_type": "code",
   "execution_count": 49,
   "metadata": {},
   "outputs": [
    {
     "name": "stdout",
     "output_type": "stream",
     "text": [
      "[[127 116]\n",
      " [130 127]]\n",
      "\n",
      "              precision    recall  f1-score   support\n",
      "\n",
      "           0       0.49      0.52      0.51       243\n",
      "           1       0.52      0.49      0.51       257\n",
      "\n",
      "    accuracy                           0.51       500\n",
      "   macro avg       0.51      0.51      0.51       500\n",
      "weighted avg       0.51      0.51      0.51       500\n",
      "\n"
     ]
    }
   ],
   "source": [
    "print(confusion_matrix(pt['Cluster'], km3.labels_))\n",
    "print()\n",
    "print(classification_report(pt['Cluster'], km3.labels_))"
   ]
  },
  {
   "cell_type": "markdown",
   "metadata": {},
   "source": [
    "Under normal circumstances, we would not be running a confusion matrix or classification report when using K Means clustering as the data is unlabeled. When using data that is labeled, we would be using a supervised learning algorithm.\n",
    "This does not surprise me that the both the precision and recall are at 0.49 as this data was completely random and the algorithm was having to cluster the data into two different groups given the complete random features of this dataset. The algorithm appears to do a slight bit better at classifying trainers that are extroverted.\n",
    "\n"
   ]
  },
  {
   "cell_type": "markdown",
   "metadata": {},
   "source": [
    "## Part III - K-Means Clustering Mock Data II"
   ]
  },
  {
   "cell_type": "markdown",
   "metadata": {},
   "source": [
    "For this third part, I will create a similar dataset except the variables this time will be number of clients and rate of speech labeled as Speech. I will attempt to make the dataset more realistic in the sense that trainers who have an average rate of speech of between 140 - 160 words per minute will tend to have a higher number of clients and those outside this range will have a lesser amount of clients. I figure clients would prefer trainers who did not speak too fast or too slow. For this last part, I will stick to two features as done in Part I of this project."
   ]
  },
  {
   "cell_type": "code",
   "execution_count": 50,
   "metadata": {},
   "outputs": [],
   "source": [
    "# Loading in the csv file into a Pandas dataframe\n",
    "pt = pd.read_csv((\"C:\\\\Users\\\\teamd\\\\Machine Learning Prep Course Udacity\\\\Trainer_Data1.csv\"))"
   ]
  },
  {
   "cell_type": "code",
   "execution_count": 51,
   "metadata": {},
   "outputs": [
    {
     "data": {
      "text/html": [
       "<div>\n",
       "<style scoped>\n",
       "    .dataframe tbody tr th:only-of-type {\n",
       "        vertical-align: middle;\n",
       "    }\n",
       "\n",
       "    .dataframe tbody tr th {\n",
       "        vertical-align: top;\n",
       "    }\n",
       "\n",
       "    .dataframe thead th {\n",
       "        text-align: right;\n",
       "    }\n",
       "</style>\n",
       "<table border=\"1\" class=\"dataframe\">\n",
       "  <thead>\n",
       "    <tr style=\"text-align: right;\">\n",
       "      <th></th>\n",
       "      <th>Names</th>\n",
       "      <th>Speech_Rate</th>\n",
       "      <th>Client_Count</th>\n",
       "    </tr>\n",
       "  </thead>\n",
       "  <tbody>\n",
       "    <tr>\n",
       "      <th>0</th>\n",
       "      <td>Kirby</td>\n",
       "      <td>99</td>\n",
       "      <td>3</td>\n",
       "    </tr>\n",
       "    <tr>\n",
       "      <th>1</th>\n",
       "      <td>Ursa</td>\n",
       "      <td>105</td>\n",
       "      <td>2</td>\n",
       "    </tr>\n",
       "    <tr>\n",
       "      <th>2</th>\n",
       "      <td>Nerea</td>\n",
       "      <td>134</td>\n",
       "      <td>7</td>\n",
       "    </tr>\n",
       "    <tr>\n",
       "      <th>3</th>\n",
       "      <td>Tara</td>\n",
       "      <td>110</td>\n",
       "      <td>12</td>\n",
       "    </tr>\n",
       "    <tr>\n",
       "      <th>4</th>\n",
       "      <td>Charles</td>\n",
       "      <td>155</td>\n",
       "      <td>16</td>\n",
       "    </tr>\n",
       "    <tr>\n",
       "      <th>5</th>\n",
       "      <td>Lev</td>\n",
       "      <td>139</td>\n",
       "      <td>11</td>\n",
       "    </tr>\n",
       "    <tr>\n",
       "      <th>6</th>\n",
       "      <td>Benjamin</td>\n",
       "      <td>79</td>\n",
       "      <td>7</td>\n",
       "    </tr>\n",
       "    <tr>\n",
       "      <th>7</th>\n",
       "      <td>Petra</td>\n",
       "      <td>178</td>\n",
       "      <td>10</td>\n",
       "    </tr>\n",
       "    <tr>\n",
       "      <th>8</th>\n",
       "      <td>MacKenzie</td>\n",
       "      <td>160</td>\n",
       "      <td>19</td>\n",
       "    </tr>\n",
       "  </tbody>\n",
       "</table>\n",
       "</div>"
      ],
      "text/plain": [
       "       Names  Speech_Rate  Client_Count\n",
       "0      Kirby           99             3\n",
       "1       Ursa          105             2\n",
       "2      Nerea          134             7\n",
       "3       Tara          110            12\n",
       "4    Charles          155            16\n",
       "5        Lev          139            11\n",
       "6   Benjamin           79             7\n",
       "7      Petra          178            10\n",
       "8  MacKenzie          160            19"
      ]
     },
     "execution_count": 51,
     "metadata": {},
     "output_type": "execute_result"
    }
   ],
   "source": [
    "# Display the first 9 rows of data from the pt dataframe\n",
    "pt.head(9)"
   ]
  },
  {
   "cell_type": "code",
   "execution_count": 52,
   "metadata": {},
   "outputs": [
    {
     "data": {
      "text/html": [
       "<div>\n",
       "<style scoped>\n",
       "    .dataframe tbody tr th:only-of-type {\n",
       "        vertical-align: middle;\n",
       "    }\n",
       "\n",
       "    .dataframe tbody tr th {\n",
       "        vertical-align: top;\n",
       "    }\n",
       "\n",
       "    .dataframe thead th {\n",
       "        text-align: right;\n",
       "    }\n",
       "</style>\n",
       "<table border=\"1\" class=\"dataframe\">\n",
       "  <thead>\n",
       "    <tr style=\"text-align: right;\">\n",
       "      <th></th>\n",
       "      <th>Speech_Rate</th>\n",
       "      <th>Client_Count</th>\n",
       "    </tr>\n",
       "  </thead>\n",
       "  <tbody>\n",
       "    <tr>\n",
       "      <th>count</th>\n",
       "      <td>100.000000</td>\n",
       "      <td>100.000000</td>\n",
       "    </tr>\n",
       "    <tr>\n",
       "      <th>mean</th>\n",
       "      <td>148.380000</td>\n",
       "      <td>18.600000</td>\n",
       "    </tr>\n",
       "    <tr>\n",
       "      <th>std</th>\n",
       "      <td>24.003695</td>\n",
       "      <td>11.363596</td>\n",
       "    </tr>\n",
       "    <tr>\n",
       "      <th>min</th>\n",
       "      <td>77.000000</td>\n",
       "      <td>0.000000</td>\n",
       "    </tr>\n",
       "    <tr>\n",
       "      <th>25%</th>\n",
       "      <td>140.000000</td>\n",
       "      <td>9.750000</td>\n",
       "    </tr>\n",
       "    <tr>\n",
       "      <th>50%</th>\n",
       "      <td>146.000000</td>\n",
       "      <td>18.000000</td>\n",
       "    </tr>\n",
       "    <tr>\n",
       "      <th>75%</th>\n",
       "      <td>156.250000</td>\n",
       "      <td>26.250000</td>\n",
       "    </tr>\n",
       "    <tr>\n",
       "      <th>max</th>\n",
       "      <td>240.000000</td>\n",
       "      <td>47.000000</td>\n",
       "    </tr>\n",
       "  </tbody>\n",
       "</table>\n",
       "</div>"
      ],
      "text/plain": [
       "       Speech_Rate  Client_Count\n",
       "count   100.000000    100.000000\n",
       "mean    148.380000     18.600000\n",
       "std      24.003695     11.363596\n",
       "min      77.000000      0.000000\n",
       "25%     140.000000      9.750000\n",
       "50%     146.000000     18.000000\n",
       "75%     156.250000     26.250000\n",
       "max     240.000000     47.000000"
      ]
     },
     "execution_count": 52,
     "metadata": {},
     "output_type": "execute_result"
    }
   ],
   "source": [
    "# Basic statistics\n",
    "pt.describe()"
   ]
  },
  {
   "cell_type": "markdown",
   "metadata": {},
   "source": [
    "Without spending too much time on entering data into an Excel spread sheet, I managed to keep the mean rate of speech at 148.38 which is between 140 and 160 which was my aim. The standard deviation is a little higher than I'd like as I was hoping I'd be around 20 or less. I'll do some basic data exploration to get a feel of my created dataset."
   ]
  },
  {
   "cell_type": "code",
   "execution_count": 53,
   "metadata": {},
   "outputs": [
    {
     "data": {
      "image/png": "[encoded data removed]",
      "text/plain": [
       "<Figure size 432x288 with 1 Axes>"
      ]
     },
     "metadata": {
      "needs_background": "light"
     },
     "output_type": "display_data"
    }
   ],
   "source": [
    "# Begin with a scatter plot of speech rate versus the number of clients\n",
    "plt.scatter(pt.Speech_Rate, pt.Client_Count)\n",
    "plt.xlabel('Rate of speech (words per minute)')\n",
    "plt.ylabel('Number of clients')\n",
    "plt.title('Basic Scatter Plot');"
   ]
  },
  {
   "cell_type": "markdown",
   "metadata": {},
   "source": [
    "Just what I was hoping for. I wanted to make sure that there was a general trend of these mock trainers having a higher number of clients if their pace of speech fell within or near the range of 140 to 160 words per minute. However, it looks pretty hard to tell the ideal K value. I will use the elbow method to determine a K value. "
   ]
  },
  {
   "cell_type": "code",
   "execution_count": 54,
   "metadata": {},
   "outputs": [
    {
     "data": {
      "image/png": "[encoded data removed]",
      "text/plain": [
       "<Figure size 720x576 with 1 Axes>"
      ]
     },
     "metadata": {
      "needs_background": "light"
     },
     "output_type": "display_data"
    }
   ],
   "source": [
    "# Display a basic violin plot\n",
    "plt.figure(figsize = (10, 8\n",
    "                     ))\n",
    "sns.violinplot(data = pt);"
   ]
  },
  {
   "cell_type": "code",
   "execution_count": 55,
   "metadata": {},
   "outputs": [
    {
     "data": {
      "image/png": "[encoded data removed]",
      "text/plain": [
       "<Figure size 720x576 with 1 Axes>"
      ]
     },
     "metadata": {
      "needs_background": "light"
     },
     "output_type": "display_data"
    }
   ],
   "source": [
    "# A basic boxplot to hopefully help visualize some of my intentional outliers\n",
    "plt.figure(figsize = (10, 8))\n",
    "sns.boxplot(data = pt);"
   ]
  },
  {
   "cell_type": "code",
   "execution_count": 56,
   "metadata": {},
   "outputs": [],
   "source": [
    "# Create a copy of the dataframe prior to scaling the values\n",
    "pt1 = pt.copy()"
   ]
  },
  {
   "cell_type": "code",
   "execution_count": 57,
   "metadata": {},
   "outputs": [
    {
     "data": {
      "text/html": [
       "<div>\n",
       "<style scoped>\n",
       "    .dataframe tbody tr th:only-of-type {\n",
       "        vertical-align: middle;\n",
       "    }\n",
       "\n",
       "    .dataframe tbody tr th {\n",
       "        vertical-align: top;\n",
       "    }\n",
       "\n",
       "    .dataframe thead th {\n",
       "        text-align: right;\n",
       "    }\n",
       "</style>\n",
       "<table border=\"1\" class=\"dataframe\">\n",
       "  <thead>\n",
       "    <tr style=\"text-align: right;\">\n",
       "      <th></th>\n",
       "      <th>Names</th>\n",
       "      <th>Speech_Rate</th>\n",
       "      <th>Client_Count</th>\n",
       "    </tr>\n",
       "  </thead>\n",
       "  <tbody>\n",
       "    <tr>\n",
       "      <th>0</th>\n",
       "      <td>Kirby</td>\n",
       "      <td>99</td>\n",
       "      <td>3</td>\n",
       "    </tr>\n",
       "    <tr>\n",
       "      <th>1</th>\n",
       "      <td>Ursa</td>\n",
       "      <td>105</td>\n",
       "      <td>2</td>\n",
       "    </tr>\n",
       "    <tr>\n",
       "      <th>2</th>\n",
       "      <td>Nerea</td>\n",
       "      <td>134</td>\n",
       "      <td>7</td>\n",
       "    </tr>\n",
       "    <tr>\n",
       "      <th>3</th>\n",
       "      <td>Tara</td>\n",
       "      <td>110</td>\n",
       "      <td>12</td>\n",
       "    </tr>\n",
       "    <tr>\n",
       "      <th>4</th>\n",
       "      <td>Charles</td>\n",
       "      <td>155</td>\n",
       "      <td>16</td>\n",
       "    </tr>\n",
       "    <tr>\n",
       "      <th>5</th>\n",
       "      <td>Lev</td>\n",
       "      <td>139</td>\n",
       "      <td>11</td>\n",
       "    </tr>\n",
       "    <tr>\n",
       "      <th>6</th>\n",
       "      <td>Benjamin</td>\n",
       "      <td>79</td>\n",
       "      <td>7</td>\n",
       "    </tr>\n",
       "    <tr>\n",
       "      <th>7</th>\n",
       "      <td>Petra</td>\n",
       "      <td>178</td>\n",
       "      <td>10</td>\n",
       "    </tr>\n",
       "    <tr>\n",
       "      <th>8</th>\n",
       "      <td>MacKenzie</td>\n",
       "      <td>160</td>\n",
       "      <td>19</td>\n",
       "    </tr>\n",
       "    <tr>\n",
       "      <th>9</th>\n",
       "      <td>Keith</td>\n",
       "      <td>156</td>\n",
       "      <td>22</td>\n",
       "    </tr>\n",
       "  </tbody>\n",
       "</table>\n",
       "</div>"
      ],
      "text/plain": [
       "       Names  Speech_Rate  Client_Count\n",
       "0      Kirby           99             3\n",
       "1       Ursa          105             2\n",
       "2      Nerea          134             7\n",
       "3       Tara          110            12\n",
       "4    Charles          155            16\n",
       "5        Lev          139            11\n",
       "6   Benjamin           79             7\n",
       "7      Petra          178            10\n",
       "8  MacKenzie          160            19\n",
       "9      Keith          156            22"
      ]
     },
     "execution_count": 57,
     "metadata": {},
     "output_type": "execute_result"
    }
   ],
   "source": [
    "pt1.head(10) "
   ]
  },
  {
   "cell_type": "code",
   "execution_count": 58,
   "metadata": {},
   "outputs": [
    {
     "data": {
      "text/html": [
       "<div>\n",
       "<style scoped>\n",
       "    .dataframe tbody tr th:only-of-type {\n",
       "        vertical-align: middle;\n",
       "    }\n",
       "\n",
       "    .dataframe tbody tr th {\n",
       "        vertical-align: top;\n",
       "    }\n",
       "\n",
       "    .dataframe thead th {\n",
       "        text-align: right;\n",
       "    }\n",
       "</style>\n",
       "<table border=\"1\" class=\"dataframe\">\n",
       "  <thead>\n",
       "    <tr style=\"text-align: right;\">\n",
       "      <th></th>\n",
       "      <th>Names</th>\n",
       "      <th>Speech_Rate</th>\n",
       "      <th>Client_Count</th>\n",
       "    </tr>\n",
       "  </thead>\n",
       "  <tbody>\n",
       "    <tr>\n",
       "      <th>0</th>\n",
       "      <td>Kirby</td>\n",
       "      <td>0.134969</td>\n",
       "      <td>3</td>\n",
       "    </tr>\n",
       "    <tr>\n",
       "      <th>1</th>\n",
       "      <td>Ursa</td>\n",
       "      <td>0.171779</td>\n",
       "      <td>2</td>\n",
       "    </tr>\n",
       "    <tr>\n",
       "      <th>2</th>\n",
       "      <td>Nerea</td>\n",
       "      <td>0.349693</td>\n",
       "      <td>7</td>\n",
       "    </tr>\n",
       "    <tr>\n",
       "      <th>3</th>\n",
       "      <td>Tara</td>\n",
       "      <td>0.202454</td>\n",
       "      <td>12</td>\n",
       "    </tr>\n",
       "    <tr>\n",
       "      <th>4</th>\n",
       "      <td>Charles</td>\n",
       "      <td>0.478528</td>\n",
       "      <td>16</td>\n",
       "    </tr>\n",
       "    <tr>\n",
       "      <th>5</th>\n",
       "      <td>Lev</td>\n",
       "      <td>0.380368</td>\n",
       "      <td>11</td>\n",
       "    </tr>\n",
       "    <tr>\n",
       "      <th>6</th>\n",
       "      <td>Benjamin</td>\n",
       "      <td>0.012270</td>\n",
       "      <td>7</td>\n",
       "    </tr>\n",
       "    <tr>\n",
       "      <th>7</th>\n",
       "      <td>Petra</td>\n",
       "      <td>0.619632</td>\n",
       "      <td>10</td>\n",
       "    </tr>\n",
       "    <tr>\n",
       "      <th>8</th>\n",
       "      <td>MacKenzie</td>\n",
       "      <td>0.509202</td>\n",
       "      <td>19</td>\n",
       "    </tr>\n",
       "    <tr>\n",
       "      <th>9</th>\n",
       "      <td>Keith</td>\n",
       "      <td>0.484663</td>\n",
       "      <td>22</td>\n",
       "    </tr>\n",
       "  </tbody>\n",
       "</table>\n",
       "</div>"
      ],
      "text/plain": [
       "       Names  Speech_Rate  Client_Count\n",
       "0      Kirby     0.134969             3\n",
       "1       Ursa     0.171779             2\n",
       "2      Nerea     0.349693             7\n",
       "3       Tara     0.202454            12\n",
       "4    Charles     0.478528            16\n",
       "5        Lev     0.380368            11\n",
       "6   Benjamin     0.012270             7\n",
       "7      Petra     0.619632            10\n",
       "8  MacKenzie     0.509202            19\n",
       "9      Keith     0.484663            22"
      ]
     },
     "execution_count": 58,
     "metadata": {},
     "output_type": "execute_result"
    }
   ],
   "source": [
    "# Scaling the Speech_Rate column\n",
    "scaler.fit(pt1[['Speech_Rate']]) # I will try scaling Age since it does not start at zero\n",
    "pt1['Speech_Rate'] = scaler.transform(pt1[['Speech_Rate']])\n",
    "pt1.head(10)"
   ]
  },
  {
   "cell_type": "code",
   "execution_count": 59,
   "metadata": {},
   "outputs": [
    {
     "data": {
      "text/html": [
       "<div>\n",
       "<style scoped>\n",
       "    .dataframe tbody tr th:only-of-type {\n",
       "        vertical-align: middle;\n",
       "    }\n",
       "\n",
       "    .dataframe tbody tr th {\n",
       "        vertical-align: top;\n",
       "    }\n",
       "\n",
       "    .dataframe thead th {\n",
       "        text-align: right;\n",
       "    }\n",
       "</style>\n",
       "<table border=\"1\" class=\"dataframe\">\n",
       "  <thead>\n",
       "    <tr style=\"text-align: right;\">\n",
       "      <th></th>\n",
       "      <th>Names</th>\n",
       "      <th>Speech_Rate</th>\n",
       "      <th>Client_Count</th>\n",
       "    </tr>\n",
       "  </thead>\n",
       "  <tbody>\n",
       "    <tr>\n",
       "      <th>0</th>\n",
       "      <td>Kirby</td>\n",
       "      <td>0.134969</td>\n",
       "      <td>0.063830</td>\n",
       "    </tr>\n",
       "    <tr>\n",
       "      <th>1</th>\n",
       "      <td>Ursa</td>\n",
       "      <td>0.171779</td>\n",
       "      <td>0.042553</td>\n",
       "    </tr>\n",
       "    <tr>\n",
       "      <th>2</th>\n",
       "      <td>Nerea</td>\n",
       "      <td>0.349693</td>\n",
       "      <td>0.148936</td>\n",
       "    </tr>\n",
       "    <tr>\n",
       "      <th>3</th>\n",
       "      <td>Tara</td>\n",
       "      <td>0.202454</td>\n",
       "      <td>0.255319</td>\n",
       "    </tr>\n",
       "    <tr>\n",
       "      <th>4</th>\n",
       "      <td>Charles</td>\n",
       "      <td>0.478528</td>\n",
       "      <td>0.340426</td>\n",
       "    </tr>\n",
       "    <tr>\n",
       "      <th>5</th>\n",
       "      <td>Lev</td>\n",
       "      <td>0.380368</td>\n",
       "      <td>0.234043</td>\n",
       "    </tr>\n",
       "    <tr>\n",
       "      <th>6</th>\n",
       "      <td>Benjamin</td>\n",
       "      <td>0.012270</td>\n",
       "      <td>0.148936</td>\n",
       "    </tr>\n",
       "    <tr>\n",
       "      <th>7</th>\n",
       "      <td>Petra</td>\n",
       "      <td>0.619632</td>\n",
       "      <td>0.212766</td>\n",
       "    </tr>\n",
       "    <tr>\n",
       "      <th>8</th>\n",
       "      <td>MacKenzie</td>\n",
       "      <td>0.509202</td>\n",
       "      <td>0.404255</td>\n",
       "    </tr>\n",
       "    <tr>\n",
       "      <th>9</th>\n",
       "      <td>Keith</td>\n",
       "      <td>0.484663</td>\n",
       "      <td>0.468085</td>\n",
       "    </tr>\n",
       "  </tbody>\n",
       "</table>\n",
       "</div>"
      ],
      "text/plain": [
       "       Names  Speech_Rate  Client_Count\n",
       "0      Kirby     0.134969      0.063830\n",
       "1       Ursa     0.171779      0.042553\n",
       "2      Nerea     0.349693      0.148936\n",
       "3       Tara     0.202454      0.255319\n",
       "4    Charles     0.478528      0.340426\n",
       "5        Lev     0.380368      0.234043\n",
       "6   Benjamin     0.012270      0.148936\n",
       "7      Petra     0.619632      0.212766\n",
       "8  MacKenzie     0.509202      0.404255\n",
       "9      Keith     0.484663      0.468085"
      ]
     },
     "execution_count": 59,
     "metadata": {},
     "output_type": "execute_result"
    }
   ],
   "source": [
    "# Scaling the Client_Count column\n",
    "scaler.fit(pt1[['Client_Count']])\n",
    "pt1['Client_Count'] = scaler.transform(pt1[['Client_Count']])\n",
    "pt1.head(10)"
   ]
  },
  {
   "cell_type": "markdown",
   "metadata": {},
   "source": [
    "#### Finding my K value"
   ]
  },
  {
   "cell_type": "code",
   "execution_count": 60,
   "metadata": {},
   "outputs": [],
   "source": [
    "# Creating an elbow plot\n",
    "k_range = range(1, 15)\n",
    "sse3 = [] # sum of squared error\n",
    "for k in k_range:\n",
    "    km_alpha = KMeans(n_clusters=k)\n",
    "    km_alpha.fit(pt1[['Speech_Rate', 'Client_Count']])\n",
    "    sse3.append(km_alpha.inertia_)"
   ]
  },
  {
   "cell_type": "code",
   "execution_count": 61,
   "metadata": {},
   "outputs": [
    {
     "data": {
      "text/plain": [
       "[7.934155642914514,\n",
       " 4.002489317820034,\n",
       " 2.7301684756054923,\n",
       " 1.5566834225165027,\n",
       " 1.1907693253053995,\n",
       " 0.963830435404941,\n",
       " 0.7872350825876411,\n",
       " 0.6601140876264966,\n",
       " 0.5786901340132797,\n",
       " 0.49830508349767666,\n",
       " 0.43788274532838084,\n",
       " 0.4198401284871113,\n",
       " 0.36225831565870314,\n",
       " 0.3356413707588799]"
      ]
     },
     "execution_count": 61,
     "metadata": {},
     "output_type": "execute_result"
    }
   ],
   "source": [
    "sse3"
   ]
  },
  {
   "cell_type": "code",
   "execution_count": 62,
   "metadata": {},
   "outputs": [
    {
     "data": {
      "image/png": "[encoded data removed]",
      "text/plain": [
       "<Figure size 864x432 with 1 Axes>"
      ]
     },
     "metadata": {
      "needs_background": "light"
     },
     "output_type": "display_data"
    }
   ],
   "source": [
    "# Plotting the elbow plot\n",
    "plt.figure(figsize = (12, 6))\n",
    "plt.plot(k_range, sse3, color = 'black')\n",
    "plt.xlabel('K value')\n",
    "plt.ylabel('Sum of squared error')\n",
    "plt.title('Elbow Plot');"
   ]
  },
  {
   "cell_type": "markdown",
   "metadata": {},
   "source": [
    "Let us say that we are attempting to figure out which classification a trainer falls into. Is the trainer an All-Star employee who knows how to make sales, maintain clientele and has a speech pattern that is reflective of an attractive personality? Maybe the trainer performs above average but would not fall under the All-Star category. Some trainers may only be attempting to achieve basic quota, and other trainers are doomed to realize a career change is in order. Given the elbow plot above, it looks like there is not much of decrease in the squared sum of error after a K value of 4. The graph highlights that a K value of should suffice for this objective."
   ]
  },
  {
   "cell_type": "code",
   "execution_count": 63,
   "metadata": {},
   "outputs": [
    {
     "data": {
      "text/plain": [
       "KMeans(algorithm='auto', copy_x=True, init='k-means++', max_iter=300,\n",
       "       n_clusters=4, n_init=10, n_jobs=None, precompute_distances='auto',\n",
       "       random_state=None, tol=0.0001, verbose=0)"
      ]
     },
     "execution_count": 63,
     "metadata": {},
     "output_type": "execute_result"
    }
   ],
   "source": [
    "# Set km back to 4 clusters\n",
    "km = KMeans(n_clusters = 4)\n",
    "km"
   ]
  },
  {
   "cell_type": "code",
   "execution_count": 64,
   "metadata": {},
   "outputs": [
    {
     "data": {
      "text/plain": [
       "array([1, 1, 1, 1, 3, 3, 1, 2, 3, 3, 3, 1, 1, 3, 3, 0, 3, 1, 3, 3, 3, 3,\n",
       "       2, 1, 3, 2, 1, 3, 0, 0, 0, 0, 3, 1, 3, 3, 2, 3, 0, 0, 0, 3, 1, 3,\n",
       "       3, 0, 3, 3, 3, 3, 2, 2, 2, 2, 3, 3, 3, 3, 0, 0, 0, 0, 0, 3, 3, 3,\n",
       "       3, 3, 1, 1, 0, 0, 3, 3, 3, 3, 3, 0, 3, 0, 0, 3, 3, 0, 0, 1, 2, 3,\n",
       "       2, 0, 0, 0, 0, 0, 0, 0, 3, 1, 3, 2])"
      ]
     },
     "execution_count": 64,
     "metadata": {},
     "output_type": "execute_result"
    }
   ],
   "source": [
    "# Fit and predict according to the rate of speech and number of clients. \n",
    "y_predicted = km.fit_predict(pt1[['Speech_Rate', 'Client_Count']])\n",
    "y_predicted"
   ]
  },
  {
   "cell_type": "code",
   "execution_count": 65,
   "metadata": {},
   "outputs": [
    {
     "data": {
      "text/html": [
       "<div>\n",
       "<style scoped>\n",
       "    .dataframe tbody tr th:only-of-type {\n",
       "        vertical-align: middle;\n",
       "    }\n",
       "\n",
       "    .dataframe tbody tr th {\n",
       "        vertical-align: top;\n",
       "    }\n",
       "\n",
       "    .dataframe thead th {\n",
       "        text-align: right;\n",
       "    }\n",
       "</style>\n",
       "<table border=\"1\" class=\"dataframe\">\n",
       "  <thead>\n",
       "    <tr style=\"text-align: right;\">\n",
       "      <th></th>\n",
       "      <th>Names</th>\n",
       "      <th>Speech_Rate</th>\n",
       "      <th>Client_Count</th>\n",
       "      <th>Cluster</th>\n",
       "    </tr>\n",
       "  </thead>\n",
       "  <tbody>\n",
       "    <tr>\n",
       "      <th>0</th>\n",
       "      <td>Kirby</td>\n",
       "      <td>0.134969</td>\n",
       "      <td>0.063830</td>\n",
       "      <td>1</td>\n",
       "    </tr>\n",
       "    <tr>\n",
       "      <th>1</th>\n",
       "      <td>Ursa</td>\n",
       "      <td>0.171779</td>\n",
       "      <td>0.042553</td>\n",
       "      <td>1</td>\n",
       "    </tr>\n",
       "    <tr>\n",
       "      <th>2</th>\n",
       "      <td>Nerea</td>\n",
       "      <td>0.349693</td>\n",
       "      <td>0.148936</td>\n",
       "      <td>1</td>\n",
       "    </tr>\n",
       "    <tr>\n",
       "      <th>3</th>\n",
       "      <td>Tara</td>\n",
       "      <td>0.202454</td>\n",
       "      <td>0.255319</td>\n",
       "      <td>1</td>\n",
       "    </tr>\n",
       "    <tr>\n",
       "      <th>4</th>\n",
       "      <td>Charles</td>\n",
       "      <td>0.478528</td>\n",
       "      <td>0.340426</td>\n",
       "      <td>3</td>\n",
       "    </tr>\n",
       "    <tr>\n",
       "      <th>5</th>\n",
       "      <td>Lev</td>\n",
       "      <td>0.380368</td>\n",
       "      <td>0.234043</td>\n",
       "      <td>3</td>\n",
       "    </tr>\n",
       "    <tr>\n",
       "      <th>6</th>\n",
       "      <td>Benjamin</td>\n",
       "      <td>0.012270</td>\n",
       "      <td>0.148936</td>\n",
       "      <td>1</td>\n",
       "    </tr>\n",
       "    <tr>\n",
       "      <th>7</th>\n",
       "      <td>Petra</td>\n",
       "      <td>0.619632</td>\n",
       "      <td>0.212766</td>\n",
       "      <td>2</td>\n",
       "    </tr>\n",
       "    <tr>\n",
       "      <th>8</th>\n",
       "      <td>MacKenzie</td>\n",
       "      <td>0.509202</td>\n",
       "      <td>0.404255</td>\n",
       "      <td>3</td>\n",
       "    </tr>\n",
       "    <tr>\n",
       "      <th>9</th>\n",
       "      <td>Keith</td>\n",
       "      <td>0.484663</td>\n",
       "      <td>0.468085</td>\n",
       "      <td>3</td>\n",
       "    </tr>\n",
       "    <tr>\n",
       "      <th>10</th>\n",
       "      <td>Shelley</td>\n",
       "      <td>0.460123</td>\n",
       "      <td>0.319149</td>\n",
       "      <td>3</td>\n",
       "    </tr>\n",
       "    <tr>\n",
       "      <th>11</th>\n",
       "      <td>Ferris</td>\n",
       "      <td>0.319018</td>\n",
       "      <td>0.170213</td>\n",
       "      <td>1</td>\n",
       "    </tr>\n",
       "    <tr>\n",
       "      <th>12</th>\n",
       "      <td>Zena</td>\n",
       "      <td>0.141104</td>\n",
       "      <td>0.191489</td>\n",
       "      <td>1</td>\n",
       "    </tr>\n",
       "    <tr>\n",
       "      <th>13</th>\n",
       "      <td>Kaitlin</td>\n",
       "      <td>0.380368</td>\n",
       "      <td>0.297872</td>\n",
       "      <td>3</td>\n",
       "    </tr>\n",
       "    <tr>\n",
       "      <th>14</th>\n",
       "      <td>Rigel</td>\n",
       "      <td>0.392638</td>\n",
       "      <td>0.446809</td>\n",
       "      <td>3</td>\n",
       "    </tr>\n",
       "  </tbody>\n",
       "</table>\n",
       "</div>"
      ],
      "text/plain": [
       "        Names  Speech_Rate  Client_Count  Cluster\n",
       "0       Kirby     0.134969      0.063830        1\n",
       "1        Ursa     0.171779      0.042553        1\n",
       "2       Nerea     0.349693      0.148936        1\n",
       "3        Tara     0.202454      0.255319        1\n",
       "4     Charles     0.478528      0.340426        3\n",
       "5         Lev     0.380368      0.234043        3\n",
       "6    Benjamin     0.012270      0.148936        1\n",
       "7       Petra     0.619632      0.212766        2\n",
       "8   MacKenzie     0.509202      0.404255        3\n",
       "9       Keith     0.484663      0.468085        3\n",
       "10    Shelley     0.460123      0.319149        3\n",
       "11     Ferris     0.319018      0.170213        1\n",
       "12       Zena     0.141104      0.191489        1\n",
       "13    Kaitlin     0.380368      0.297872        3\n",
       "14      Rigel     0.392638      0.446809        3"
      ]
     },
     "execution_count": 65,
     "metadata": {},
     "output_type": "execute_result"
    }
   ],
   "source": [
    "# Adding a column called 'Cluster' so that I can visualize the results\n",
    "pt1['Cluster'] = y_predicted\n",
    "pt1.head(15)"
   ]
  },
  {
   "cell_type": "code",
   "execution_count": 66,
   "metadata": {},
   "outputs": [
    {
     "data": {
      "text/plain": [
       "array([[0.44807187, 0.70744681],\n",
       "       [0.23734663, 0.11968085],\n",
       "       [0.70886782, 0.10058027],\n",
       "       [0.43667348, 0.37210402]])"
      ]
     },
     "execution_count": 66,
     "metadata": {},
     "output_type": "execute_result"
    }
   ],
   "source": [
    "# Displaying the centroid values\n",
    "km.cluster_centers_"
   ]
  },
  {
   "cell_type": "code",
   "execution_count": 67,
   "metadata": {},
   "outputs": [
    {
     "data": {
      "image/png": "[encoded data removed]",
      "text/plain": [
       "<Figure size 720x504 with 1 Axes>"
      ]
     },
     "metadata": {
      "needs_background": "light"
     },
     "output_type": "display_data"
    }
   ],
   "source": [
    "# Plotting the results\n",
    "\n",
    "pt1_1a = pt1[pt1.Cluster == 0] \n",
    "pt1_2a = pt1[pt1.Cluster == 1]\n",
    "pt1_3a = pt1[pt1.Cluster == 2]\n",
    "pt1_4a = pt1[pt1.Cluster == 3]\n",
    "\n",
    "plt.figure(figsize = (10, 7))\n",
    "plt.scatter(pt1_1a.Speech_Rate, pt1_1a.Client_Count, color = 'purple')\n",
    "plt.scatter(pt1_2a.Speech_Rate, pt1_2a.Client_Count, color = 'red')\n",
    "plt.scatter(pt1_3a.Speech_Rate, pt1_3a.Client_Count, color = 'green')\n",
    "plt.scatter(pt1_4a.Speech_Rate, pt1_4a.Client_Count, color = 'orange')\n",
    "plt.scatter(km.cluster_centers_[:, 0], km.cluster_centers_[:, 1],s = 200, color = 'black', marker = '*', label = 'Centroid')\n",
    "plt.xlabel('Rate of Speech')\n",
    "plt.ylabel('Number of clients')\n",
    "plt.title('Clustered Plot')\n",
    "plt.legend();"
   ]
  },
  {
   "cell_type": "markdown",
   "metadata": {},
   "source": [
    "## Part III Summary"
   ]
  },
  {
   "cell_type": "markdown",
   "metadata": {},
   "source": [
    "A number of variables can probably be used to classify trainers and even predict a trainer's success in the health and fitness industry. In this mock dataset I decided to hypothetically assume that falling within a certain range of words per minutes is one of many variables that can contribute to a trainer's success level. Based on this [link]('https://virtualspeech.com/blog/average-speaking-rate-words-per-minute'), the average words per minute spoken can vary depending on the context of the social situation. However, I would think that not too many clients would want a trainer that speaks at a pace of someone who is auctioning off items as they may have a hard time remembering what the trainer is trying to say. At the same time, someone who speaks to slow, may signal a trainer who is not fully awake or is not running on all cylinders when it comes to motivating his clients. Machine learning is an awesome tool that could one day be used to help individuals determine if they have the attributes to being a successful trainer working in the health and fitness industry or if they should pursue other career avenues. "
   ]
  },
  {
   "cell_type": "markdown",
   "metadata": {},
   "source": [
    "## Part IV - Predicting Relationship Status!"
   ]
  },
  {
   "cell_type": "markdown",
   "metadata": {},
   "source": [
    "For the final segment of this K Means clustering learning experience, I will be uploading a hypothetical (mock) dataset that could potentially simulate a real-life experiment. Although this is an over simplification of the variables that are involved in one’s relationship status, the goal is to see how well K Means clustering can predict ones relationship status given three variables; speech rate (words per minute), attraction score(1 being unattractive and 10 being highly attractive, and debt-to-income ratio. I will attempt to see how accurate this algorithm can classify each individual as being married, dating, or single.\n",
    "Although this data is fictional, the point is that machine learning will prove to be valuable in the field of counseling. For those wondering what is holding them back when it comes to finally walking down the isle, machine learning may help to come up with apps that in conjunction with therapy can help pin-point areas an individual needs to improve on to increase his/her chances of tying the knot.\n",
    "This will follow a similar outline as done in Part II. Once again, in normal circumstances we would not have labels for our data. Under normal circumstances, I would be using a supervised machine learning algorithm since the data is labeled. This is strictly for learning and to get more familiar with K Means Clusters and how accurate this algorithm may be.\n",
    "Time to see how accurate the K Means Clustering algorithm will be in predicting relationship status!\n",
    "\n"
   ]
  },
  {
   "cell_type": "code",
   "execution_count": 68,
   "metadata": {},
   "outputs": [],
   "source": [
    "# Upload the relationship status csv file into a Pandas dataframe\n",
    "status =  pd.read_csv(\"C:\\\\Users\\\\teamd\\\\Machine Learning Prep Course Udacity\\\\status_data.csv\")"
   ]
  },
  {
   "cell_type": "code",
   "execution_count": 69,
   "metadata": {},
   "outputs": [
    {
     "data": {
      "text/html": [
       "<div>\n",
       "<style scoped>\n",
       "    .dataframe tbody tr th:only-of-type {\n",
       "        vertical-align: middle;\n",
       "    }\n",
       "\n",
       "    .dataframe tbody tr th {\n",
       "        vertical-align: top;\n",
       "    }\n",
       "\n",
       "    .dataframe thead th {\n",
       "        text-align: right;\n",
       "    }\n",
       "</style>\n",
       "<table border=\"1\" class=\"dataframe\">\n",
       "  <thead>\n",
       "    <tr style=\"text-align: right;\">\n",
       "      <th></th>\n",
       "      <th>Status</th>\n",
       "      <th>Speech_Rate</th>\n",
       "      <th>Attraction_Score</th>\n",
       "      <th>Debt/Income_Ratio</th>\n",
       "    </tr>\n",
       "  </thead>\n",
       "  <tbody>\n",
       "    <tr>\n",
       "      <th>0</th>\n",
       "      <td>Single</td>\n",
       "      <td>99</td>\n",
       "      <td>5</td>\n",
       "      <td>0.60</td>\n",
       "    </tr>\n",
       "    <tr>\n",
       "      <th>1</th>\n",
       "      <td>Single</td>\n",
       "      <td>105</td>\n",
       "      <td>8</td>\n",
       "      <td>0.70</td>\n",
       "    </tr>\n",
       "    <tr>\n",
       "      <th>2</th>\n",
       "      <td>Married</td>\n",
       "      <td>134</td>\n",
       "      <td>7</td>\n",
       "      <td>0.20</td>\n",
       "    </tr>\n",
       "    <tr>\n",
       "      <th>3</th>\n",
       "      <td>Dating</td>\n",
       "      <td>110</td>\n",
       "      <td>3</td>\n",
       "      <td>0.40</td>\n",
       "    </tr>\n",
       "    <tr>\n",
       "      <th>4</th>\n",
       "      <td>Married</td>\n",
       "      <td>155</td>\n",
       "      <td>7</td>\n",
       "      <td>0.15</td>\n",
       "    </tr>\n",
       "    <tr>\n",
       "      <th>5</th>\n",
       "      <td>Married</td>\n",
       "      <td>139</td>\n",
       "      <td>8</td>\n",
       "      <td>0.30</td>\n",
       "    </tr>\n",
       "    <tr>\n",
       "      <th>6</th>\n",
       "      <td>Single</td>\n",
       "      <td>79</td>\n",
       "      <td>1</td>\n",
       "      <td>0.80</td>\n",
       "    </tr>\n",
       "    <tr>\n",
       "      <th>7</th>\n",
       "      <td>Married</td>\n",
       "      <td>178</td>\n",
       "      <td>8</td>\n",
       "      <td>0.20</td>\n",
       "    </tr>\n",
       "  </tbody>\n",
       "</table>\n",
       "</div>"
      ],
      "text/plain": [
       "    Status  Speech_Rate  Attraction_Score  Debt/Income_Ratio\n",
       "0   Single           99                 5               0.60\n",
       "1   Single          105                 8               0.70\n",
       "2  Married          134                 7               0.20\n",
       "3   Dating          110                 3               0.40\n",
       "4  Married          155                 7               0.15\n",
       "5  Married          139                 8               0.30\n",
       "6   Single           79                 1               0.80\n",
       "7  Married          178                 8               0.20"
      ]
     },
     "execution_count": 69,
     "metadata": {},
     "output_type": "execute_result"
    }
   ],
   "source": [
    "# Display the first 8 rows of the dataframe\n",
    "status.head(8)"
   ]
  },
  {
   "cell_type": "code",
   "execution_count": 70,
   "metadata": {},
   "outputs": [
    {
     "data": {
      "text/html": [
       "<div>\n",
       "<style scoped>\n",
       "    .dataframe tbody tr th:only-of-type {\n",
       "        vertical-align: middle;\n",
       "    }\n",
       "\n",
       "    .dataframe tbody tr th {\n",
       "        vertical-align: top;\n",
       "    }\n",
       "\n",
       "    .dataframe thead th {\n",
       "        text-align: right;\n",
       "    }\n",
       "</style>\n",
       "<table border=\"1\" class=\"dataframe\">\n",
       "  <thead>\n",
       "    <tr style=\"text-align: right;\">\n",
       "      <th></th>\n",
       "      <th>Speech_Rate</th>\n",
       "      <th>Attraction_Score</th>\n",
       "      <th>Debt/Income_Ratio</th>\n",
       "    </tr>\n",
       "  </thead>\n",
       "  <tbody>\n",
       "    <tr>\n",
       "      <th>count</th>\n",
       "      <td>100.000000</td>\n",
       "      <td>100.000000</td>\n",
       "      <td>100.000000</td>\n",
       "    </tr>\n",
       "    <tr>\n",
       "      <th>mean</th>\n",
       "      <td>148.380000</td>\n",
       "      <td>6.650000</td>\n",
       "      <td>0.323300</td>\n",
       "    </tr>\n",
       "    <tr>\n",
       "      <th>std</th>\n",
       "      <td>24.003695</td>\n",
       "      <td>2.459264</td>\n",
       "      <td>0.241486</td>\n",
       "    </tr>\n",
       "    <tr>\n",
       "      <th>min</th>\n",
       "      <td>77.000000</td>\n",
       "      <td>1.000000</td>\n",
       "      <td>0.010000</td>\n",
       "    </tr>\n",
       "    <tr>\n",
       "      <th>25%</th>\n",
       "      <td>140.000000</td>\n",
       "      <td>5.000000</td>\n",
       "      <td>0.117500</td>\n",
       "    </tr>\n",
       "    <tr>\n",
       "      <th>50%</th>\n",
       "      <td>146.000000</td>\n",
       "      <td>7.000000</td>\n",
       "      <td>0.270000</td>\n",
       "    </tr>\n",
       "    <tr>\n",
       "      <th>75%</th>\n",
       "      <td>156.250000</td>\n",
       "      <td>9.000000</td>\n",
       "      <td>0.472500</td>\n",
       "    </tr>\n",
       "    <tr>\n",
       "      <th>max</th>\n",
       "      <td>240.000000</td>\n",
       "      <td>10.000000</td>\n",
       "      <td>0.900000</td>\n",
       "    </tr>\n",
       "  </tbody>\n",
       "</table>\n",
       "</div>"
      ],
      "text/plain": [
       "       Speech_Rate  Attraction_Score  Debt/Income_Ratio\n",
       "count   100.000000        100.000000         100.000000\n",
       "mean    148.380000          6.650000           0.323300\n",
       "std      24.003695          2.459264           0.241486\n",
       "min      77.000000          1.000000           0.010000\n",
       "25%     140.000000          5.000000           0.117500\n",
       "50%     146.000000          7.000000           0.270000\n",
       "75%     156.250000          9.000000           0.472500\n",
       "max     240.000000         10.000000           0.900000"
      ]
     },
     "execution_count": 70,
     "metadata": {},
     "output_type": "execute_result"
    }
   ],
   "source": [
    "# Some statistics on my mock dataset\n",
    "status.describe()"
   ]
  },
  {
   "cell_type": "markdown",
   "metadata": {},
   "source": [
    "The following code cells will consist of simple exploratory data analysis and visualizations"
   ]
  },
  {
   "cell_type": "code",
   "execution_count": 74,
   "metadata": {},
   "outputs": [
    {
     "data": {
      "image/png": "[encoded data removed]",
      "text/plain": [
       "<Figure size 794.375x360 with 1 Axes>"
      ]
     },
     "metadata": {
      "needs_background": "light"
     },
     "output_type": "display_data"
    }
   ],
   "source": [
    "# Plotting a scatter plot on Speech_Rate and Debt/Income_Ratio based off of relationship status\n",
    "sns.lmplot(x = 'Speech_Rate', y = 'Debt/Income_Ratio', data = status, hue = 'Status', fit_reg = False, height =5, aspect = 2);"
   ]
  },
  {
   "cell_type": "markdown",
   "metadata": {},
   "source": [
    "Significant debt has been said to be a red flag when it comes to entering into relationships. More than likely in real life, people who are dating and or married are going to have a lesser debt-to-income ratio. "
   ]
  },
  {
   "cell_type": "code",
   "execution_count": 77,
   "metadata": {},
   "outputs": [
    {
     "data": {
      "image/png": "[encoded data removed]",
      "text/plain": [
       "<Figure size 794.375x360 with 1 Axes>"
      ]
     },
     "metadata": {
      "needs_background": "light"
     },
     "output_type": "display_data"
    }
   ],
   "source": [
    "# Plotting a scatter plot on Attraction_Score versus Debt/Income_Ratio based off relationship status on \n",
    "sns.lmplot(x = 'Attraction_Score', y = 'Debt/Income_Ratio', data = status, hue = 'Status', \\\n",
    "           fit_reg = False, height =5, aspect = 2);"
   ]
  },
  {
   "cell_type": "code",
   "execution_count": 81,
   "metadata": {},
   "outputs": [],
   "source": [
    "# Avoid repetive code by making a function that returns a violin plot\n",
    "def violinplot_maker(dataset, cat_var, num_var):\n",
    "    plt.figure(figsize = (13, 5))\n",
    "    result = sns.violinplot(data = dataset, x = cat_var, y = num_var)\n",
    "    return result"
   ]
  },
  {
   "cell_type": "code",
   "execution_count": 82,
   "metadata": {},
   "outputs": [
    {
     "data": {
      "image/png": "[encoded data removed]",
      "text/plain": [
       "<Figure size 936x360 with 1 Axes>"
      ]
     },
     "metadata": {
      "needs_background": "light"
     },
     "output_type": "display_data"
    }
   ],
   "source": [
    "# Plotting a violinplot that looks at Speech_Rate for each of the relationship statuses\n",
    "violinplot_maker(status, 'Status', 'Speech_Rate');"
   ]
  },
  {
   "cell_type": "code",
   "execution_count": 84,
   "metadata": {},
   "outputs": [
    {
     "data": {
      "image/png": "[encoded data removed]",
      "text/plain": [
       "<Figure size 936x360 with 1 Axes>"
      ]
     },
     "metadata": {
      "needs_background": "light"
     },
     "output_type": "display_data"
    }
   ],
   "source": [
    "# A violinplot for Attraction_Score for each relationship status\n",
    "violinplot_maker(status, 'Status', 'Attraction_Score');"
   ]
  },
  {
   "cell_type": "code",
   "execution_count": 85,
   "metadata": {},
   "outputs": [
    {
     "data": {
      "image/png": "[encoded data removed]",
      "text/plain": [
       "<Figure size 936x360 with 1 Axes>"
      ]
     },
     "metadata": {
      "needs_background": "light"
     },
     "output_type": "display_data"
    }
   ],
   "source": [
    "# A violin plot for Debt/Income_Ratio for each relationship status\n",
    "violinplot_maker(status, 'Status', 'Debt/Income_Ratio');"
   ]
  },
  {
   "cell_type": "code",
   "execution_count": 86,
   "metadata": {},
   "outputs": [],
   "source": [
    "# Create a function that returns a boxplot similar to the one made for violin plots\n",
    "def boxplot_maker(dataset, cat_var, num_var):\n",
    "    plt.figure(figsize = (13, 5))\n",
    "    result = sns.boxplot(data = dataset, x = cat_var, y = num_var)\n",
    "    return result\n"
   ]
  },
  {
   "cell_type": "code",
   "execution_count": 87,
   "metadata": {},
   "outputs": [
    {
     "data": {
      "image/png": "[encoded data removed]",
      "text/plain": [
       "<Figure size 936x360 with 1 Axes>"
      ]
     },
     "metadata": {
      "needs_background": "light"
     },
     "output_type": "display_data"
    }
   ],
   "source": [
    "# Boxplot for Speech_Rate based off of relationship status\n",
    "boxplot_maker(status, 'Status', 'Speech_Rate');"
   ]
  },
  {
   "cell_type": "code",
   "execution_count": 88,
   "metadata": {},
   "outputs": [
    {
     "data": {
      "image/png": "[encoded data removed]",
      "text/plain": [
       "<Figure size 936x360 with 1 Axes>"
      ]
     },
     "metadata": {
      "needs_background": "light"
     },
     "output_type": "display_data"
    }
   ],
   "source": [
    "# Boxplot for Attraction_Score based off relationship status\n",
    "boxplot_maker(status, 'Status', 'Attraction_Score');"
   ]
  },
  {
   "cell_type": "code",
   "execution_count": 89,
   "metadata": {},
   "outputs": [
    {
     "data": {
      "image/png": "[encoded data removed]",
      "text/plain": [
       "<Figure size 936x360 with 1 Axes>"
      ]
     },
     "metadata": {
      "needs_background": "light"
     },
     "output_type": "display_data"
    }
   ],
   "source": [
    "# Boxplot for debt-to-income ratio based off of relationship status\n",
    "boxplot_maker(status, 'Status', 'Debt/Income_Ratio');"
   ]
  },
  {
   "cell_type": "markdown",
   "metadata": {},
   "source": [
    "### Time for some K Means clustering!"
   ]
  },
  {
   "cell_type": "code",
   "execution_count": 90,
   "metadata": {},
   "outputs": [
    {
     "data": {
      "text/html": [
       "<div>\n",
       "<style scoped>\n",
       "    .dataframe tbody tr th:only-of-type {\n",
       "        vertical-align: middle;\n",
       "    }\n",
       "\n",
       "    .dataframe tbody tr th {\n",
       "        vertical-align: top;\n",
       "    }\n",
       "\n",
       "    .dataframe thead th {\n",
       "        text-align: right;\n",
       "    }\n",
       "</style>\n",
       "<table border=\"1\" class=\"dataframe\">\n",
       "  <thead>\n",
       "    <tr style=\"text-align: right;\">\n",
       "      <th></th>\n",
       "      <th>Status</th>\n",
       "      <th>Speech_Rate</th>\n",
       "      <th>Attraction_Score</th>\n",
       "      <th>Debt/Income_Ratio</th>\n",
       "    </tr>\n",
       "  </thead>\n",
       "  <tbody>\n",
       "    <tr>\n",
       "      <th>0</th>\n",
       "      <td>Single</td>\n",
       "      <td>99</td>\n",
       "      <td>5</td>\n",
       "      <td>0.60</td>\n",
       "    </tr>\n",
       "    <tr>\n",
       "      <th>1</th>\n",
       "      <td>Single</td>\n",
       "      <td>105</td>\n",
       "      <td>8</td>\n",
       "      <td>0.70</td>\n",
       "    </tr>\n",
       "    <tr>\n",
       "      <th>2</th>\n",
       "      <td>Married</td>\n",
       "      <td>134</td>\n",
       "      <td>7</td>\n",
       "      <td>0.20</td>\n",
       "    </tr>\n",
       "    <tr>\n",
       "      <th>3</th>\n",
       "      <td>Dating</td>\n",
       "      <td>110</td>\n",
       "      <td>3</td>\n",
       "      <td>0.40</td>\n",
       "    </tr>\n",
       "    <tr>\n",
       "      <th>4</th>\n",
       "      <td>Married</td>\n",
       "      <td>155</td>\n",
       "      <td>7</td>\n",
       "      <td>0.15</td>\n",
       "    </tr>\n",
       "    <tr>\n",
       "      <th>5</th>\n",
       "      <td>Married</td>\n",
       "      <td>139</td>\n",
       "      <td>8</td>\n",
       "      <td>0.30</td>\n",
       "    </tr>\n",
       "  </tbody>\n",
       "</table>\n",
       "</div>"
      ],
      "text/plain": [
       "    Status  Speech_Rate  Attraction_Score  Debt/Income_Ratio\n",
       "0   Single           99                 5               0.60\n",
       "1   Single          105                 8               0.70\n",
       "2  Married          134                 7               0.20\n",
       "3   Dating          110                 3               0.40\n",
       "4  Married          155                 7               0.15\n",
       "5  Married          139                 8               0.30"
      ]
     },
     "execution_count": 90,
     "metadata": {},
     "output_type": "execute_result"
    }
   ],
   "source": [
    "# Quick view of the dataframe for reference\n",
    "status.head(6)"
   ]
  },
  {
   "cell_type": "code",
   "execution_count": 91,
   "metadata": {},
   "outputs": [
    {
     "data": {
      "text/html": [
       "<div>\n",
       "<style scoped>\n",
       "    .dataframe tbody tr th:only-of-type {\n",
       "        vertical-align: middle;\n",
       "    }\n",
       "\n",
       "    .dataframe tbody tr th {\n",
       "        vertical-align: top;\n",
       "    }\n",
       "\n",
       "    .dataframe thead th {\n",
       "        text-align: right;\n",
       "    }\n",
       "</style>\n",
       "<table border=\"1\" class=\"dataframe\">\n",
       "  <thead>\n",
       "    <tr style=\"text-align: right;\">\n",
       "      <th></th>\n",
       "      <th>Status</th>\n",
       "      <th>Speech_Rate</th>\n",
       "      <th>Attraction_Score</th>\n",
       "      <th>Debt/Income_Ratio</th>\n",
       "    </tr>\n",
       "  </thead>\n",
       "  <tbody>\n",
       "    <tr>\n",
       "      <th>0</th>\n",
       "      <td>Single</td>\n",
       "      <td>99</td>\n",
       "      <td>5</td>\n",
       "      <td>0.6</td>\n",
       "    </tr>\n",
       "    <tr>\n",
       "      <th>1</th>\n",
       "      <td>Single</td>\n",
       "      <td>105</td>\n",
       "      <td>8</td>\n",
       "      <td>0.7</td>\n",
       "    </tr>\n",
       "    <tr>\n",
       "      <th>2</th>\n",
       "      <td>Married</td>\n",
       "      <td>134</td>\n",
       "      <td>7</td>\n",
       "      <td>0.2</td>\n",
       "    </tr>\n",
       "  </tbody>\n",
       "</table>\n",
       "</div>"
      ],
      "text/plain": [
       "    Status  Speech_Rate  Attraction_Score  Debt/Income_Ratio\n",
       "0   Single           99                 5                0.6\n",
       "1   Single          105                 8                0.7\n",
       "2  Married          134                 7                0.2"
      ]
     },
     "execution_count": 91,
     "metadata": {},
     "output_type": "execute_result"
    }
   ],
   "source": [
    "# Create a copy of the dataframe to reduce my chances of getting a warning message\n",
    "df_status = status.copy()\n",
    "df_status.head(3)"
   ]
  },
  {
   "cell_type": "code",
   "execution_count": 92,
   "metadata": {},
   "outputs": [
    {
     "data": {
      "text/plain": [
       "KMeans(algorithm='auto', copy_x=True, init='k-means++', max_iter=300,\n",
       "       n_clusters=3, n_init=10, n_jobs=None, precompute_distances='auto',\n",
       "       random_state=None, tol=0.0001, verbose=0)"
      ]
     },
     "execution_count": 92,
     "metadata": {},
     "output_type": "execute_result"
    }
   ],
   "source": [
    "# Creating a K Means model with three clusters since I have three different relationship statuses\n",
    "km5 = KMeans(n_clusters=3)\n",
    "km5"
   ]
  },
  {
   "cell_type": "code",
   "execution_count": 93,
   "metadata": {},
   "outputs": [
    {
     "data": {
      "text/plain": [
       "KMeans(algorithm='auto', copy_x=True, init='k-means++', max_iter=300,\n",
       "       n_clusters=3, n_init=10, n_jobs=None, precompute_distances='auto',\n",
       "       random_state=None, tol=0.0001, verbose=0)"
      ]
     },
     "execution_count": 93,
     "metadata": {},
     "output_type": "execute_result"
    }
   ],
   "source": [
    "# Fitting the data to all columns except the 'Status' column\n",
    "km5.fit(df_status.drop('Status', axis = 1))"
   ]
  },
  {
   "cell_type": "code",
   "execution_count": 94,
   "metadata": {},
   "outputs": [
    {
     "name": "stdout",
     "output_type": "stream",
     "text": [
      "[[149.74358974   7.19230769   0.28628205]\n",
      " [201.375        6.125        0.44375   ]\n",
      " [110.5          3.92857143   0.46071429]]\n",
      "\n",
      "(3, 3)\n"
     ]
    }
   ],
   "source": [
    "# Finding the cluster center vectors\n",
    "print(km5.cluster_centers_)\n",
    "print()\n",
    "\n",
    "# Diminensions will match the number of columns in dataframe that does not include relationship status\n",
    "print(km5.cluster_centers_.shape)"
   ]
  },
  {
   "cell_type": "code",
   "execution_count": 95,
   "metadata": {},
   "outputs": [],
   "source": [
    "# Add a cluster column\n",
    "# Create a function that will convert Married to the integer 2, Dating to the integer 1, and Single to the integer 0\n",
    "def relationship_status_converter(status):\n",
    "    if status == 'Married':\n",
    "        return 2\n",
    "    elif status == 'Dating':\n",
    "        return 1\n",
    "    else:\n",
    "        return 0"
   ]
  },
  {
   "cell_type": "code",
   "execution_count": 96,
   "metadata": {},
   "outputs": [],
   "source": [
    "# Applying the returned value from the function above to the 'Cluster' column\n",
    "df_status['Cluster'] = df_status['Status'].apply(relationship_status_converter)"
   ]
  },
  {
   "cell_type": "code",
   "execution_count": 98,
   "metadata": {},
   "outputs": [
    {
     "data": {
      "text/html": [
       "<div>\n",
       "<style scoped>\n",
       "    .dataframe tbody tr th:only-of-type {\n",
       "        vertical-align: middle;\n",
       "    }\n",
       "\n",
       "    .dataframe tbody tr th {\n",
       "        vertical-align: top;\n",
       "    }\n",
       "\n",
       "    .dataframe thead th {\n",
       "        text-align: right;\n",
       "    }\n",
       "</style>\n",
       "<table border=\"1\" class=\"dataframe\">\n",
       "  <thead>\n",
       "    <tr style=\"text-align: right;\">\n",
       "      <th></th>\n",
       "      <th>Status</th>\n",
       "      <th>Speech_Rate</th>\n",
       "      <th>Attraction_Score</th>\n",
       "      <th>Debt/Income_Ratio</th>\n",
       "      <th>Cluster</th>\n",
       "    </tr>\n",
       "  </thead>\n",
       "  <tbody>\n",
       "    <tr>\n",
       "      <th>27</th>\n",
       "      <td>Married</td>\n",
       "      <td>167</td>\n",
       "      <td>7</td>\n",
       "      <td>0.02</td>\n",
       "      <td>2</td>\n",
       "    </tr>\n",
       "    <tr>\n",
       "      <th>70</th>\n",
       "      <td>Single</td>\n",
       "      <td>148</td>\n",
       "      <td>3</td>\n",
       "      <td>0.78</td>\n",
       "      <td>0</td>\n",
       "    </tr>\n",
       "    <tr>\n",
       "      <th>85</th>\n",
       "      <td>Dating</td>\n",
       "      <td>77</td>\n",
       "      <td>3</td>\n",
       "      <td>0.59</td>\n",
       "      <td>1</td>\n",
       "    </tr>\n",
       "    <tr>\n",
       "      <th>87</th>\n",
       "      <td>Married</td>\n",
       "      <td>154</td>\n",
       "      <td>8</td>\n",
       "      <td>0.47</td>\n",
       "      <td>2</td>\n",
       "    </tr>\n",
       "    <tr>\n",
       "      <th>73</th>\n",
       "      <td>Single</td>\n",
       "      <td>139</td>\n",
       "      <td>4</td>\n",
       "      <td>0.48</td>\n",
       "      <td>0</td>\n",
       "    </tr>\n",
       "    <tr>\n",
       "      <th>71</th>\n",
       "      <td>Married</td>\n",
       "      <td>151</td>\n",
       "      <td>8</td>\n",
       "      <td>0.35</td>\n",
       "      <td>2</td>\n",
       "    </tr>\n",
       "    <tr>\n",
       "      <th>43</th>\n",
       "      <td>Dating</td>\n",
       "      <td>154</td>\n",
       "      <td>8</td>\n",
       "      <td>0.31</td>\n",
       "      <td>1</td>\n",
       "    </tr>\n",
       "    <tr>\n",
       "      <th>22</th>\n",
       "      <td>Married</td>\n",
       "      <td>173</td>\n",
       "      <td>9</td>\n",
       "      <td>0.17</td>\n",
       "      <td>2</td>\n",
       "    </tr>\n",
       "    <tr>\n",
       "      <th>9</th>\n",
       "      <td>Dating</td>\n",
       "      <td>156</td>\n",
       "      <td>8</td>\n",
       "      <td>0.10</td>\n",
       "      <td>1</td>\n",
       "    </tr>\n",
       "    <tr>\n",
       "      <th>61</th>\n",
       "      <td>Single</td>\n",
       "      <td>161</td>\n",
       "      <td>8</td>\n",
       "      <td>0.80</td>\n",
       "      <td>0</td>\n",
       "    </tr>\n",
       "    <tr>\n",
       "      <th>3</th>\n",
       "      <td>Dating</td>\n",
       "      <td>110</td>\n",
       "      <td>3</td>\n",
       "      <td>0.40</td>\n",
       "      <td>1</td>\n",
       "    </tr>\n",
       "    <tr>\n",
       "      <th>99</th>\n",
       "      <td>Single</td>\n",
       "      <td>240</td>\n",
       "      <td>8</td>\n",
       "      <td>0.07</td>\n",
       "      <td>0</td>\n",
       "    </tr>\n",
       "    <tr>\n",
       "      <th>37</th>\n",
       "      <td>Dating</td>\n",
       "      <td>144</td>\n",
       "      <td>7</td>\n",
       "      <td>0.11</td>\n",
       "      <td>1</td>\n",
       "    </tr>\n",
       "    <tr>\n",
       "      <th>57</th>\n",
       "      <td>Dating</td>\n",
       "      <td>140</td>\n",
       "      <td>6</td>\n",
       "      <td>0.19</td>\n",
       "      <td>1</td>\n",
       "    </tr>\n",
       "    <tr>\n",
       "      <th>41</th>\n",
       "      <td>Single</td>\n",
       "      <td>133</td>\n",
       "      <td>5</td>\n",
       "      <td>0.44</td>\n",
       "      <td>0</td>\n",
       "    </tr>\n",
       "  </tbody>\n",
       "</table>\n",
       "</div>"
      ],
      "text/plain": [
       "     Status  Speech_Rate  Attraction_Score  Debt/Income_Ratio  Cluster\n",
       "27  Married          167                 7               0.02        2\n",
       "70   Single          148                 3               0.78        0\n",
       "85   Dating           77                 3               0.59        1\n",
       "87  Married          154                 8               0.47        2\n",
       "73   Single          139                 4               0.48        0\n",
       "71  Married          151                 8               0.35        2\n",
       "43   Dating          154                 8               0.31        1\n",
       "22  Married          173                 9               0.17        2\n",
       "9    Dating          156                 8               0.10        1\n",
       "61   Single          161                 8               0.80        0\n",
       "3    Dating          110                 3               0.40        1\n",
       "99   Single          240                 8               0.07        0\n",
       "37   Dating          144                 7               0.11        1\n",
       "57   Dating          140                 6               0.19        1\n",
       "41   Single          133                 5               0.44        0"
      ]
     },
     "execution_count": 98,
     "metadata": {},
     "output_type": "execute_result"
    }
   ],
   "source": [
    "df_status.sample(15)"
   ]
  },
  {
   "cell_type": "code",
   "execution_count": 101,
   "metadata": {},
   "outputs": [
    {
     "name": "stdout",
     "output_type": "stream",
     "text": [
      "[[14  3  8]\n",
      " [24  3  5]\n",
      " [40  2  1]]\n",
      "\n",
      "\n",
      "              precision    recall  f1-score   support\n",
      "\n",
      "           0       0.18      0.56      0.27        25\n",
      "           1       0.38      0.09      0.15        32\n",
      "           2       0.07      0.02      0.04        43\n",
      "\n",
      "    accuracy                           0.18       100\n",
      "   macro avg       0.21      0.23      0.15       100\n",
      "weighted avg       0.20      0.18      0.13       100\n",
      "\n"
     ]
    }
   ],
   "source": [
    "print(confusion_matrix(df_status['Cluster'], km5.labels_))\n",
    "print('\\n')\n",
    "print(classification_report(df_status['Cluster'], km5.labels_))"
   ]
  },
  {
   "cell_type": "markdown",
   "metadata": {},
   "source": [
    "Not so good. This data set does contain outliers and because this algorithm is about centering observations to the nearest centroid which involves calculating the mean, outliers will affect the mean value. A smaller dataset is likely to be even more affected by outliers. This could be why the precision values and f1-scores are not particularly good. An accuracy of less than 20% is poor."
   ]
  },
  {
   "cell_type": "code",
   "execution_count": 102,
   "metadata": {},
   "outputs": [
    {
     "data": {
      "text/html": [
       "<div>\n",
       "<style scoped>\n",
       "    .dataframe tbody tr th:only-of-type {\n",
       "        vertical-align: middle;\n",
       "    }\n",
       "\n",
       "    .dataframe tbody tr th {\n",
       "        vertical-align: top;\n",
       "    }\n",
       "\n",
       "    .dataframe thead th {\n",
       "        text-align: right;\n",
       "    }\n",
       "</style>\n",
       "<table border=\"1\" class=\"dataframe\">\n",
       "  <thead>\n",
       "    <tr style=\"text-align: right;\">\n",
       "      <th></th>\n",
       "      <th>Status</th>\n",
       "      <th>Speech_Rate</th>\n",
       "      <th>Attraction_Score</th>\n",
       "      <th>Debt/Income_Ratio</th>\n",
       "    </tr>\n",
       "  </thead>\n",
       "  <tbody>\n",
       "    <tr>\n",
       "      <th>0</th>\n",
       "      <td>Single</td>\n",
       "      <td>99</td>\n",
       "      <td>5</td>\n",
       "      <td>0.6</td>\n",
       "    </tr>\n",
       "    <tr>\n",
       "      <th>1</th>\n",
       "      <td>Single</td>\n",
       "      <td>105</td>\n",
       "      <td>8</td>\n",
       "      <td>0.7</td>\n",
       "    </tr>\n",
       "  </tbody>\n",
       "</table>\n",
       "</div>"
      ],
      "text/plain": [
       "   Status  Speech_Rate  Attraction_Score  Debt/Income_Ratio\n",
       "0  Single           99                 5                0.6\n",
       "1  Single          105                 8                0.7"
      ]
     },
     "execution_count": 102,
     "metadata": {},
     "output_type": "execute_result"
    }
   ],
   "source": [
    "# I will try with two clusters (married and dating will equal 1 and single will equal 0)\n",
    "df_status2 = status.copy()\n",
    "df_status2.head(2)"
   ]
  },
  {
   "cell_type": "code",
   "execution_count": 103,
   "metadata": {},
   "outputs": [
    {
     "data": {
      "text/plain": [
       "KMeans(algorithm='auto', copy_x=True, init='k-means++', max_iter=300,\n",
       "       n_clusters=2, n_init=10, n_jobs=None, precompute_distances='auto',\n",
       "       random_state=None, tol=0.0001, verbose=0)"
      ]
     },
     "execution_count": 103,
     "metadata": {},
     "output_type": "execute_result"
    }
   ],
   "source": [
    "km6 = KMeans(n_clusters=2)\n",
    "km6"
   ]
  },
  {
   "cell_type": "code",
   "execution_count": 104,
   "metadata": {},
   "outputs": [
    {
     "data": {
      "text/plain": [
       "KMeans(algorithm='auto', copy_x=True, init='k-means++', max_iter=300,\n",
       "       n_clusters=2, n_init=10, n_jobs=None, precompute_distances='auto',\n",
       "       random_state=None, tol=0.0001, verbose=0)"
      ]
     },
     "execution_count": 104,
     "metadata": {},
     "output_type": "execute_result"
    }
   ],
   "source": [
    "km6.fit(df_status2.drop('Status', axis = 1))"
   ]
  },
  {
   "cell_type": "code",
   "execution_count": 105,
   "metadata": {},
   "outputs": [
    {
     "name": "stdout",
     "output_type": "stream",
     "text": [
      "[[166.86046512   7.13953488   0.31651163]\n",
      " [134.43859649   6.28070175   0.32842105]]\n",
      "\n",
      "\n"
     ]
    }
   ],
   "source": [
    "print(km6.cluster_centers_)\n",
    "print('\\n')"
   ]
  },
  {
   "cell_type": "code",
   "execution_count": 106,
   "metadata": {},
   "outputs": [],
   "source": [
    "def converter_3(status):\n",
    "    if status == 'Married' or status == 'Dating':\n",
    "        return 1\n",
    "    else:\n",
    "        return 0"
   ]
  },
  {
   "cell_type": "code",
   "execution_count": 108,
   "metadata": {},
   "outputs": [
    {
     "data": {
      "text/html": [
       "<div>\n",
       "<style scoped>\n",
       "    .dataframe tbody tr th:only-of-type {\n",
       "        vertical-align: middle;\n",
       "    }\n",
       "\n",
       "    .dataframe tbody tr th {\n",
       "        vertical-align: top;\n",
       "    }\n",
       "\n",
       "    .dataframe thead th {\n",
       "        text-align: right;\n",
       "    }\n",
       "</style>\n",
       "<table border=\"1\" class=\"dataframe\">\n",
       "  <thead>\n",
       "    <tr style=\"text-align: right;\">\n",
       "      <th></th>\n",
       "      <th>Status</th>\n",
       "      <th>Speech_Rate</th>\n",
       "      <th>Attraction_Score</th>\n",
       "      <th>Debt/Income_Ratio</th>\n",
       "      <th>Cluster</th>\n",
       "    </tr>\n",
       "  </thead>\n",
       "  <tbody>\n",
       "    <tr>\n",
       "      <th>36</th>\n",
       "      <td>Married</td>\n",
       "      <td>162</td>\n",
       "      <td>10</td>\n",
       "      <td>0.50</td>\n",
       "      <td>1</td>\n",
       "    </tr>\n",
       "    <tr>\n",
       "      <th>48</th>\n",
       "      <td>Dating</td>\n",
       "      <td>145</td>\n",
       "      <td>9</td>\n",
       "      <td>0.03</td>\n",
       "      <td>1</td>\n",
       "    </tr>\n",
       "    <tr>\n",
       "      <th>62</th>\n",
       "      <td>Married</td>\n",
       "      <td>160</td>\n",
       "      <td>9</td>\n",
       "      <td>0.22</td>\n",
       "      <td>1</td>\n",
       "    </tr>\n",
       "    <tr>\n",
       "      <th>32</th>\n",
       "      <td>Dating</td>\n",
       "      <td>132</td>\n",
       "      <td>6</td>\n",
       "      <td>0.11</td>\n",
       "      <td>1</td>\n",
       "    </tr>\n",
       "    <tr>\n",
       "      <th>44</th>\n",
       "      <td>Single</td>\n",
       "      <td>140</td>\n",
       "      <td>4</td>\n",
       "      <td>0.32</td>\n",
       "      <td>0</td>\n",
       "    </tr>\n",
       "    <tr>\n",
       "      <th>29</th>\n",
       "      <td>Dating</td>\n",
       "      <td>144</td>\n",
       "      <td>6</td>\n",
       "      <td>0.44</td>\n",
       "      <td>1</td>\n",
       "    </tr>\n",
       "    <tr>\n",
       "      <th>45</th>\n",
       "      <td>Dating</td>\n",
       "      <td>142</td>\n",
       "      <td>7</td>\n",
       "      <td>0.21</td>\n",
       "      <td>1</td>\n",
       "    </tr>\n",
       "    <tr>\n",
       "      <th>51</th>\n",
       "      <td>Single</td>\n",
       "      <td>190</td>\n",
       "      <td>3</td>\n",
       "      <td>0.77</td>\n",
       "      <td>0</td>\n",
       "    </tr>\n",
       "    <tr>\n",
       "      <th>54</th>\n",
       "      <td>Dating</td>\n",
       "      <td>145</td>\n",
       "      <td>5</td>\n",
       "      <td>0.44</td>\n",
       "      <td>1</td>\n",
       "    </tr>\n",
       "    <tr>\n",
       "      <th>78</th>\n",
       "      <td>Single</td>\n",
       "      <td>146</td>\n",
       "      <td>10</td>\n",
       "      <td>0.01</td>\n",
       "      <td>0</td>\n",
       "    </tr>\n",
       "  </tbody>\n",
       "</table>\n",
       "</div>"
      ],
      "text/plain": [
       "     Status  Speech_Rate  Attraction_Score  Debt/Income_Ratio  Cluster\n",
       "36  Married          162                10               0.50        1\n",
       "48   Dating          145                 9               0.03        1\n",
       "62  Married          160                 9               0.22        1\n",
       "32   Dating          132                 6               0.11        1\n",
       "44   Single          140                 4               0.32        0\n",
       "29   Dating          144                 6               0.44        1\n",
       "45   Dating          142                 7               0.21        1\n",
       "51   Single          190                 3               0.77        0\n",
       "54   Dating          145                 5               0.44        1\n",
       "78   Single          146                10               0.01        0"
      ]
     },
     "execution_count": 108,
     "metadata": {},
     "output_type": "execute_result"
    }
   ],
   "source": [
    "df_status2['Cluster'] = df_status2['Status'].apply(converter_3)\n",
    "df_status2.sample(10)"
   ]
  },
  {
   "cell_type": "code",
   "execution_count": 109,
   "metadata": {},
   "outputs": [
    {
     "name": "stdout",
     "output_type": "stream",
     "text": [
      "[[ 6 19]\n",
      " [37 38]]\n",
      "\n",
      "\n",
      "              precision    recall  f1-score   support\n",
      "\n",
      "           0       0.14      0.24      0.18        25\n",
      "           1       0.67      0.51      0.58        75\n",
      "\n",
      "    accuracy                           0.44       100\n",
      "   macro avg       0.40      0.37      0.38       100\n",
      "weighted avg       0.53      0.44      0.48       100\n",
      "\n"
     ]
    }
   ],
   "source": [
    "print(confusion_matrix(df_status2['Cluster'], km6.labels_))\n",
    "print('\\n')\n",
    "print(classification_report(df_status2['Cluster'], km6.labels_))"
   ]
  },
  {
   "cell_type": "markdown",
   "metadata": {},
   "source": [
    "The accuracy is at 44% when using two clusters. This is better than the 18% accuracy when using three clusters. Precision, recall, and the f-score was higher for when considering values that were 1 (married or dating). As mentioned above with regards to outliers, this more than likely could have had an effect on the accuracy of the algorithm given this dataset. This is another good example of when one may want to consider removing outliers from a dataset."
   ]
  },
  {
   "cell_type": "markdown",
   "metadata": {},
   "source": [
    "## Conclusion"
   ]
  },
  {
   "cell_type": "markdown",
   "metadata": {},
   "source": [
    "This concludes this project where I dive into some K Means clustering. There is a whole lot more to learn about this unsupervised machine learning algorithm. Although my interpretations and applications of this algorithm may not have been correct, the only way to learn and improve on this skill is taking the risk and be willing to make errors. The reasoning for creating my own datasets was to avoid using some of the more traditional datasets that are often used. I figure the best way to challenge myself and learn a new skill is to try something different and not be afraid to make mistakes. "
   ]
  },
  {
   "cell_type": "markdown",
   "metadata": {},
   "source": [
    "## Resources\n",
    "* https://www.youtube.com/watch?v=EItlUEPCIzM\n",
    "* https://stackoverflow.com/questions/45554008/error-in-python-script-expected-2d-array-got-1d-array-instead\n",
    "* https://github.com/dm185/Fifty-Year-Snowfall-History/blob/master/Mt%20Baker%20Ski%20Area%20vs%20Paradise%20Rainier%20Snowfall%20Good%20Copy%20(4).ipynb\n",
    "* https://www.udemy.com/course/python-for-data-science-and-machine-learning-bootcamp/learn/lecture/5733544#overview"
   ]
  },
  {
   "cell_type": "code",
   "execution_count": null,
   "metadata": {},
   "outputs": [],
   "source": []
  }
 ],
 "metadata": {
  "kernelspec": {
   "display_name": "Python 3",
   "language": "python",
   "name": "python3"
  },
  "language_info": {
   "codemirror_mode": {
    "name": "ipython",
    "version": 3
   },
   "file_extension": ".py",
   "mimetype": "text/x-python",
   "name": "python",
   "nbconvert_exporter": "python",
   "pygments_lexer": "ipython3",
   "version": "3.7.6"
  }
 },
 "nbformat": 4,
 "nbformat_minor": 4
}
